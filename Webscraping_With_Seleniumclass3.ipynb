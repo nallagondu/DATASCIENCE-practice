{
  "nbformat": 4,
  "nbformat_minor": 0,
  "metadata": {
    "colab": {
      "private_outputs": true,
      "provenance": [],
      "cell_execution_strategy": "setup",
      "authorship_tag": "ABX9TyPp6a9TA6jz1JTM1Pvd6TOe",
      "include_colab_link": true
    },
    "kernelspec": {
      "name": "python3",
      "display_name": "Python 3"
    },
    "language_info": {
      "name": "python"
    }
  },
  "cells": [
    {
      "cell_type": "markdown",
      "metadata": {
        "id": "view-in-github",
        "colab_type": "text"
      },
      "source": [
        "<a href=\"https://colab.research.google.com/github/nallagondu/DATASCIENCE-practice/blob/main/Webscraping_With_Seleniumclass3.ipynb\" target=\"_parent\"><img src=\"https://colab.research.google.com/assets/colab-badge.svg\" alt=\"Open In Colab\"/></a>"
      ]
    },
    {
      "cell_type": "code",
      "execution_count": null,
      "metadata": {
        "id": "G6W7gmu4uHvD"
      },
      "outputs": [],
      "source": []
    },
    {
      "cell_type": "code",
      "source": [
        "!pip install selenium"
      ],
      "metadata": {
        "id": "W0r2XkMnvDHq"
      },
      "execution_count": null,
      "outputs": []
    },
    {
      "cell_type": "code",
      "source": [
        "import selenium\n",
        "import pandas as pd\n",
        "from selenium import webdriver\n",
        "import warnings\n",
        "warnings.filterwarnings('ignore')\n",
        "from selenium.webdriver.common.by import By\n",
        "import time\n",
        "\n",
        "from bs4 import BeautifulSoup\n",
        "import requests\n"
      ],
      "metadata": {
        "id": "UJwvrcE1vJNj"
      },
      "execution_count": null,
      "outputs": []
    },
    {
      "cell_type": "code",
      "source": [
        "\n",
        "chrome_options = webdriver.ChromeOptions()\n",
        "chrome_options.add_argument('--headless')\n",
        "chrome_options.add_argument('--no-sandbox')\n",
        "chrome_options.add_argument('--disable-dev-shm-usage')"
      ],
      "metadata": {
        "id": "qkPa9bKqQvNA"
      },
      "execution_count": null,
      "outputs": []
    },
    {
      "cell_type": "code",
      "source": [
        "chrome_driver_path = r'C:\\Users\\gnreddy_nallagondu\\Downloads\\chromedriver_win32\\chromedriver.exe'\n",
        "driver = webdriver.Chrome(options=chrome_options)\n"
      ],
      "metadata": {
        "id": "hwTD8ZzQQRCH"
      },
      "execution_count": null,
      "outputs": []
    },
    {
      "cell_type": "code",
      "source": [
        "icc_url = 'https://naukri.com/'\n",
        "response = requests.get(icc_url)\n",
        "response\n",
        "driver.get(icc_url)\n",
        "print(\"Page Title\",driver.title)"
      ],
      "metadata": {
        "id": "pyTzHd8uwInC"
      },
      "execution_count": null,
      "outputs": []
    },
    {
      "cell_type": "code",
      "source": [
        "from selenium.webdriver.common.by import By\n",
        "\n",
        "\n",
        "designation = driver.find_element(By.CLASS_NAME,\"suggestor-input \")\n",
        "designation.send_keys('Data Analyst')"
      ],
      "metadata": {
        "id": "M6jlJV40z1As"
      },
      "execution_count": null,
      "outputs": []
    }
  ]
}