{
  "nbformat": 4,
  "nbformat_minor": 0,
  "metadata": {
    "colab": {
      "private_outputs": true,
      "provenance": [],
      "authorship_tag": "ABX9TyMM+5Ck4SEw4Fs1ZqC/zkSm",
      "include_colab_link": true
    },
    "kernelspec": {
      "name": "python3",
      "display_name": "Python 3"
    },
    "language_info": {
      "name": "python"
    }
  },
  "cells": [
    {
      "cell_type": "markdown",
      "metadata": {
        "id": "view-in-github",
        "colab_type": "text"
      },
      "source": [
        "<a href=\"https://colab.research.google.com/github/nallagondu/DATASCIENCE-practice/blob/main/Data_Preprocessing_importent.ipynb\" target=\"_parent\"><img src=\"https://colab.research.google.com/assets/colab-badge.svg\" alt=\"Open In Colab\"/></a>"
      ]
    },
    {
      "cell_type": "code",
      "execution_count": null,
      "metadata": {
        "id": "IMeJmnYEwsSp"
      },
      "outputs": [],
      "source": [
        "\n",
        "!pip install -q requests xlrd\n",
        "import pandas as pd\n",
        "import requests\n"
      ]
    },
    {
      "cell_type": "code",
      "source": [
        "url = \"https://raw.githubusercontent.com/nallagondu/DATASCIENCE-practice/main/sales%20data.xlsx\"\n",
        "response = requests.get(url)\n",
        "\n",
        "# Save the response content to a file\n",
        "with open(\"sales_data.xlsx\", \"wb\") as file:\n",
        "    file.write(response.content)\n",
        "\n",
        "# Read the Excel file into a DataFrame\n",
        "df = pd.read_excel(\"sales_data.xlsx\")\n",
        "\n",
        "# Display the first few rows of the DataFrame\n",
        "df.head()"
      ],
      "metadata": {
        "id": "AFCsWa-hw7HW"
      },
      "execution_count": null,
      "outputs": []
    },
    {
      "cell_type": "code",
      "source": [],
      "metadata": {
        "id": "a91bnDp2K-7X"
      },
      "execution_count": null,
      "outputs": []
    },
    {
      "cell_type": "code",
      "source": [
        "df.tail()"
      ],
      "metadata": {
        "id": "ul-LnMaExYA3"
      },
      "execution_count": null,
      "outputs": []
    },
    {
      "cell_type": "code",
      "source": [
        "df.describe()"
      ],
      "metadata": {
        "id": "fyzHJm10xkZJ"
      },
      "execution_count": null,
      "outputs": []
    },
    {
      "cell_type": "code",
      "source": [
        "df.drop_duplicates()"
      ],
      "metadata": {
        "id": "xt4kGn1tyH4S"
      },
      "execution_count": null,
      "outputs": []
    },
    {
      "cell_type": "code",
      "source": [
        "missing_values = df.isnull().sum()\n",
        "missing_values"
      ],
      "metadata": {
        "id": "HP452Jb3yZBy"
      },
      "execution_count": null,
      "outputs": []
    },
    {
      "cell_type": "code",
      "source": [],
      "metadata": {
        "id": "k3NBA2Y502QK"
      },
      "execution_count": null,
      "outputs": []
    },
    {
      "cell_type": "code",
      "source": [
        "\n",
        "from sklearn.impute import SimpleImputer\n"
      ],
      "metadata": {
        "id": "XPDyjXNzy2Ea"
      },
      "execution_count": null,
      "outputs": []
    },
    {
      "cell_type": "code",
      "source": [],
      "metadata": {
        "id": "Qm04o13q3mbz"
      },
      "execution_count": null,
      "outputs": []
    },
    {
      "cell_type": "code",
      "source": [
        "target_column = 'order_value_EUR'\n",
        "imputer = SimpleImputer(strategy='median')\n",
        "df[target_column] = imputer.fit_transform(df[[target_column]])"
      ],
      "metadata": {
        "id": "j0QyPJqazwqv"
      },
      "execution_count": null,
      "outputs": []
    },
    {
      "cell_type": "code",
      "source": [
        "df.isnull().sum()"
      ],
      "metadata": {
        "id": "WDhhZWJf0284"
      },
      "execution_count": null,
      "outputs": []
    },
    {
      "cell_type": "code",
      "source": [
        "target_column1 = 'device_type'\n",
        "imputer = SimpleImputer(strategy='most_frequent')\n",
        "df[target_column1] = imputer.fit_transform(df[[target_column1]])"
      ],
      "metadata": {
        "id": "iJgubxm91CeC"
      },
      "execution_count": null,
      "outputs": []
    },
    {
      "cell_type": "code",
      "source": [
        "df.isnull().sum()"
      ],
      "metadata": {
        "id": "hOWqKCbG1YM_"
      },
      "execution_count": null,
      "outputs": []
    },
    {
      "cell_type": "code",
      "source": [
        "df.drop_duplicates()"
      ],
      "metadata": {
        "id": "LNPle4C11diq"
      },
      "execution_count": null,
      "outputs": []
    },
    {
      "cell_type": "code",
      "source": [
        "df.isnull().sum()\n"
      ],
      "metadata": {
        "id": "YjR_plVo1k1Q"
      },
      "execution_count": null,
      "outputs": []
    },
    {
      "cell_type": "code",
      "source": [
        "df.describe()"
      ],
      "metadata": {
        "id": "0a5NIXg9104p"
      },
      "execution_count": null,
      "outputs": []
    },
    {
      "cell_type": "code",
      "source": [
        "#Simple variable containes mixed data\n",
        "mixed_data = df['cost']\n",
        "#create a empty list to copy non-numarical data\n",
        "non_numaric_values = []\n",
        "\n",
        "for value in mixed_data:\n",
        "  if isinstance(value,str) and not  value.isnumeric():\n",
        "    non_numaric_values.append(value)\n",
        "\n",
        "print(\"Non-Numaric values:\")\n",
        "print(non_numaric_values)\n"
      ],
      "metadata": {
        "id": "VVplmHNwCzZB"
      },
      "execution_count": null,
      "outputs": []
    },
    {
      "cell_type": "code",
      "source": [
        "mask = (df['cost'] == 'XXX')\n",
        "\n",
        "#remove rows that match the mask\n",
        "df = df[~mask]"
      ],
      "metadata": {
        "id": "1vxV27x9GMXE"
      },
      "execution_count": null,
      "outputs": []
    },
    {
      "cell_type": "code",
      "source": [
        "df['cost'] = df['cost'].astype(float)\n",
        "df.dtypes"
      ],
      "metadata": {
        "id": "L9pcWpEuHwmV"
      },
      "execution_count": null,
      "outputs": []
    },
    {
      "cell_type": "code",
      "source": [
        "df['date'] = df['date'].astype('datetime64')\n",
        "df.dtypes"
      ],
      "metadata": {
        "id": "h4yjaU80Ii7z"
      },
      "execution_count": null,
      "outputs": []
    },
    {
      "cell_type": "code",
      "source": [
        "df.head()"
      ],
      "metadata": {
        "id": "Apg2GdGaIvV8"
      },
      "execution_count": null,
      "outputs": []
    },
    {
      "cell_type": "code",
      "source": [
        "#to remove duplicates\n",
        "duplicates = df[df.duplicated()]\n",
        "duplicates"
      ],
      "metadata": {
        "id": "qeUuZcOjI7R2"
      },
      "execution_count": null,
      "outputs": []
    },
    {
      "cell_type": "code",
      "source": [
        "df_no_duplicates = df.drop_duplicates()\n",
        "df_no_duplicates"
      ],
      "metadata": {
        "id": "CiMvxvenJTuj"
      },
      "execution_count": null,
      "outputs": []
    },
    {
      "cell_type": "code",
      "source": [
        "cleaned_data = df_no_duplicates\n",
        "cleaned_data.head()"
      ],
      "metadata": {
        "id": "QQQC_GVcJyev"
      },
      "execution_count": null,
      "outputs": []
    },
    {
      "cell_type": "code",
      "source": [
        "cleaned_data.describe()"
      ],
      "metadata": {
        "id": "tdSZvnafKCR8"
      },
      "execution_count": null,
      "outputs": []
    },
    {
      "cell_type": "code",
      "source": [
        "cleaned_data.dtypes"
      ],
      "metadata": {
        "id": "FSTs7fSw2QvK"
      },
      "execution_count": null,
      "outputs": []
    },
    {
      "cell_type": "code",
      "source": [
        "#sort the data based on cost\n",
        "df_sorted_cost = df.sort_values(by='cost', ascending = True)\n",
        "df_sorted_cost"
      ],
      "metadata": {
        "id": "u1-yLTKtLB2_"
      },
      "execution_count": null,
      "outputs": []
    },
    {
      "cell_type": "code",
      "source": [
        "##sort the data based on country\n",
        "\n",
        "df_sorted_country = df.sort_values(by='country', ascending = True)\n",
        "df_sorted_country"
      ],
      "metadata": {
        "id": "CYTRGK6Ero26"
      },
      "execution_count": null,
      "outputs": []
    },
    {
      "cell_type": "code",
      "source": [
        "##sort the data based on data\n",
        "df_sorted_date = df.sort_values(by='date', ascending = True)\n",
        "df_sorted_date"
      ],
      "metadata": {
        "id": "fhNP84EwrzO3"
      },
      "execution_count": null,
      "outputs": []
    },
    {
      "cell_type": "code",
      "source": [
        "url = \"https://raw.githubusercontent.com/nallagondu/DATASCIENCE-practice/main/Extra Variable.xlsx\"\n",
        "response = requests.get(url)\n",
        "\n",
        "# Save the response content to a file\n",
        "with open(\"Extra Variable.xlsx\", \"wb\") as file:\n",
        "    file.write(response.content)\n",
        "\n",
        "# Read the Excel file into a DataFrame\n",
        "df = pd.read_excel(\"Extra Variable.xlsx\")\n",
        "\n",
        "# Display the first few rows of the DataFrame\n",
        "df.head()"
      ],
      "metadata": {
        "id": "9lvZXqvJdW8n"
      },
      "execution_count": null,
      "outputs": []
    },
    {
      "cell_type": "code",
      "source": [
        "# Merge data set Extra Variable.xlsx and \"sales_data.xlsx\n",
        "merged_df = df_sorted_date.merge(df, on='order_id')\n",
        "merged_df"
      ],
      "metadata": {
        "id": "ROKh7SosgjNc"
      },
      "execution_count": null,
      "outputs": []
    },
    {
      "cell_type": "code",
      "source": [
        "#To add extra data in previous Dataframe\n",
        "url = \"https://raw.githubusercontent.com/nallagondu/DATASCIENCE-practice/main/Extra Data.xlsx\"\n",
        "response = requests.get(url)\n",
        "\n",
        "# Save the response content to a file\n",
        "with open(\"Extra Data.xlsx\", \"wb\") as file:\n",
        "    file.write(response.content)\n",
        "\n",
        "# Read the Excel file into a DataFrame\n",
        "extra_df = pd.read_excel(\"Extra Data.xlsx\")\n",
        "\n",
        "# Display the first few rows of the DataFrame\n",
        "extra_df.head()\n"
      ],
      "metadata": {
        "id": "V-rGWwI4t875"
      },
      "execution_count": null,
      "outputs": []
    },
    {
      "cell_type": "code",
      "source": [
        "concatenated_df = pd.concat([merged_df, extra_df], ignore_index=True)"
      ],
      "metadata": {
        "id": "jRTqoecHujTX"
      },
      "execution_count": null,
      "outputs": []
    },
    {
      "cell_type": "code",
      "source": [
        "concatenated_df"
      ],
      "metadata": {
        "id": "lcGEjQaJuf1u"
      },
      "execution_count": null,
      "outputs": []
    },
    {
      "cell_type": "code",
      "source": [
        "# now we will learn about how to filter the Data Frame to include only rows where country is France\n",
        "filtered_df_france = concatenated_df[concatenated_df['country'] == 'France']\n",
        "\n",
        "filtered_df_france"
      ],
      "metadata": {
        "id": "uwg9XNDHsdIL"
      },
      "execution_count": null,
      "outputs": []
    },
    {
      "cell_type": "code",
      "source": [
        "# now we will learn about how to filter the Data Frame including with two or more data field ,\n",
        "# include  rows where country is France and Category is games\n",
        "filtered_df_france_final = concatenated_df[(concatenated_df['country'] == 'France') & (concatenated_df['category'] == 'Games' )]\n",
        "\n",
        "filtered_df_france_final"
      ],
      "metadata": {
        "id": "W4iADfKtswE1"
      },
      "execution_count": null,
      "outputs": []
    },
    {
      "cell_type": "code",
      "source": [],
      "metadata": {
        "id": "jOtMWOwP5L4_"
      },
      "execution_count": null,
      "outputs": []
    },
    {
      "cell_type": "code",
      "source": [
        "#create a pivot table to calculate mediam sales and cost, and purchase frequntly\n",
        "pivot_table = concatenated_df.pivot_table(index = 'customer_name',\n",
        "                                               values=['order_value_EUR', 'cost'],\n",
        "                                               aggfunc={'order_value_EUR': 'median', 'cost': 'median', 'customer_name': 'count'})\n",
        "#rename columns for clarity\n",
        "pivot_table.columns = ['Median Cost', 'Purchase Frequency', 'Median sales']\n",
        "\n",
        "pivot_table.columns\n"
      ],
      "metadata": {
        "id": "Mvor5MeD4-dz"
      },
      "execution_count": null,
      "outputs": []
    },
    {
      "cell_type": "code",
      "source": [
        "pivot_table"
      ],
      "metadata": {
        "id": "ITk-ylxBxDOg"
      },
      "execution_count": null,
      "outputs": []
    },
    {
      "cell_type": "code",
      "source": [
        "sorted_pivot_table = pivot_table.sort_values(by = 'Purchase Frequency', ascending=False)\n",
        "top10 = sorted_pivot_table[0:10]\n",
        "top10"
      ],
      "metadata": {
        "id": "RcXZboz19kmy"
      },
      "execution_count": null,
      "outputs": []
    },
    {
      "cell_type": "code",
      "source": [
        "top10.index"
      ],
      "metadata": {
        "id": "Yk86QFWZcS0U"
      },
      "execution_count": null,
      "outputs": []
    },
    {
      "cell_type": "code",
      "source": [
        "loyal_customers_names = ['Johns and Sons', 'Hessel-Stiedemann',\n",
        "       'Swaniawski, Runolfsson and Green', 'Dickinson, Hyatt and Berge',\n",
        "       'Murray, Reichel and Nolan', 'Rowe, Hermiston and Kessler',\n",
        "       'Larkin-Collier', 'Kihn Inc', 'Wisoky Inc', 'Tillman and Sons']\n",
        "#function to assign loyal customers or regular customers\n",
        "def customer_type(name):\n",
        "  if name in loyal_customers_names:\n",
        "      return \"Loyal Customer\"\n",
        "  else:\n",
        "      return \"regular customer\"\n",
        "\n",
        "\n",
        "concatenated_df['CustomerType'] =  concatenated_df['customer_name'].apply(customer_type)"
      ],
      "metadata": {
        "id": "xfQVayPewcfo"
      },
      "execution_count": null,
      "outputs": []
    },
    {
      "cell_type": "code",
      "source": [
        "concatenated_df"
      ],
      "metadata": {
        "id": "hXEuxFyLzMLs"
      },
      "execution_count": null,
      "outputs": []
    },
    {
      "cell_type": "code",
      "source": [
        " concatenated_df['CustomerType'].value_counts()"
      ],
      "metadata": {
        "id": "-LJ_gLWJbaD1"
      },
      "execution_count": null,
      "outputs": []
    },
    {
      "cell_type": "code",
      "source": [
        "#convert the Date column in to a date time type\n",
        "concatenated_df['date'] = pd.to_datetime(concatenated_df['date'])\n",
        "\n",
        "#Extract day ,month, and year into new column\n",
        "concatenated_df['Day'] = concatenated_df['date'].dt.day\n",
        "concatenated_df['Month'] = concatenated_df['date'].dt.month\n",
        "concatenated_df['Year'] = concatenated_df['date'].dt.year"
      ],
      "metadata": {
        "id": "j4pe0wuk6K3x"
      },
      "execution_count": null,
      "outputs": []
    },
    {
      "cell_type": "code",
      "source": [
        "concatenated_df.head()"
      ],
      "metadata": {
        "id": "g7oLj8VZI4dy"
      },
      "execution_count": null,
      "outputs": []
    },
    {
      "cell_type": "code",
      "source": [
        "concatenated_df"
      ],
      "metadata": {
        "id": "wK3Iu1JiJOdE"
      },
      "execution_count": null,
      "outputs": []
    },
    {
      "cell_type": "code",
      "source": [
        "concatenated_df['Year'].value_counts()"
      ],
      "metadata": {
        "id": "DK-NBSITJToQ"
      },
      "execution_count": null,
      "outputs": []
    },
    {
      "cell_type": "markdown",
      "source": [
        "**Assigning Numarical Variable**\n",
        "\n",
        "customer type encoded (1,0)"
      ],
      "metadata": {
        "id": "wyXt8HMYJ81k"
      }
    },
    {
      "cell_type": "code",
      "source": [
        "concatenated_df['CustomerType_encoded'] = concatenated_df['CustomerType'].replace({'Loyal Customer': 1,'regular customer': 0})"
      ],
      "metadata": {
        "id": "NRtwbGfYJ2zE"
      },
      "execution_count": null,
      "outputs": []
    },
    {
      "cell_type": "code",
      "source": [
        "concatenated_df"
      ],
      "metadata": {
        "id": "WVc7Kr3aKofV"
      },
      "execution_count": null,
      "outputs": []
    },
    {
      "cell_type": "code",
      "source": [
        "#Create Dummy variable for categorical columns\n",
        "dummy_df = pd.get_dummies(concatenated_df, columns = ['country', 'category','device_type'])"
      ],
      "metadata": {
        "id": "GMqhKNDQLRZY"
      },
      "execution_count": null,
      "outputs": []
    },
    {
      "cell_type": "code",
      "source": [
        "dummy_df.head()"
      ],
      "metadata": {
        "id": "n53ON0A2MKYQ"
      },
      "execution_count": null,
      "outputs": []
    },
    {
      "cell_type": "code",
      "source": [
        "#dependent varialbe y =\n",
        "y = dummy_df['refund']\n",
        "dummy_df.columns"
      ],
      "metadata": {
        "id": "Ftu8nqooMm21"
      },
      "execution_count": null,
      "outputs": []
    },
    {
      "cell_type": "code",
      "source": [
        "#list of categorical variables to drop\n",
        "variables_to_drop = ['date', 'customer_name','sales_manager','sales_rep', 'order_id','refund', 'CustomerType' ]\n",
        "\n",
        "#Drop the specified Columns\n",
        "x = dummy_df.drop(variables_to_drop, axis=1)"
      ],
      "metadata": {
        "id": "0mu4EZt6NNow"
      },
      "execution_count": null,
      "outputs": []
    },
    {
      "cell_type": "code",
      "source": [
        "x.columns"
      ],
      "metadata": {
        "id": "JkSoF-y_NwZt"
      },
      "execution_count": null,
      "outputs": []
    },
    {
      "cell_type": "code",
      "source": [
        "from sklearn.preprocessing import StandardScaler"
      ],
      "metadata": {
        "id": "qGeLzdBuOdr4"
      },
      "execution_count": null,
      "outputs": []
    },
    {
      "cell_type": "code",
      "source": [
        "#Initialize the standard scaler\n",
        "scaler = StandardScaler()\n",
        "\n",
        "#scale the numeric columns\n",
        "scaled_data = scaler.fit_transform(x)"
      ],
      "metadata": {
        "id": "Y7QXrwy6OqJ_"
      },
      "execution_count": null,
      "outputs": []
    },
    {
      "cell_type": "code",
      "source": [
        "scaled_data"
      ],
      "metadata": {
        "id": "KxRn33MDPPkS"
      },
      "execution_count": null,
      "outputs": []
    },
    {
      "cell_type": "markdown",
      "source": [
        "**Train Machine learning model **"
      ],
      "metadata": {
        "id": "JUlvofC8PYPh"
      }
    },
    {
      "cell_type": "code",
      "source": [
        "from sklearn.model_selection import train_test_split\n",
        "#split the data into training and testing sets\n",
        "train_x, test_x, train_y, test_y = train_test_split(scaled_data, y,test_size=.3, random_state=234)"
      ],
      "metadata": {
        "id": "Ew3dJRaZPWu2"
      },
      "execution_count": null,
      "outputs": []
    },
    {
      "cell_type": "code",
      "source": [
        "#https://delldigital.udemy.com/course/fast-track-machine-learning-in-python-chatgpt/learn/lecture/40487000#overview\n",
        "from sklearn.linear_model import LinearRegression\n",
        "from sklearn.metrics import mean_absolute_error\n",
        "import numpy as np\n",
        "import matplotlib.pyplot as plt\n",
        "\n"
      ],
      "metadata": {
        "id": "GRt9UB_iRHYK"
      },
      "execution_count": null,
      "outputs": []
    },
    {
      "cell_type": "code",
      "source": [
        "#Initialize the Linear regression model\n",
        "model = LinearRegression()\n",
        "#Train fit the model on the training data\n",
        "model.fit(train_x,train_y)\n",
        "\n",
        "#make predictions on the test data\n",
        "y_pred = model.predict(test_x)"
      ],
      "metadata": {
        "id": "U1J4cL9ke-9I"
      },
      "execution_count": null,
      "outputs": []
    },
    {
      "cell_type": "code",
      "source": [
        "#Calculate MAPE\n",
        "def calculate_mape(test_y, y_pred):\n",
        "  return np.mean(np.abs((test_y - y_pred) / test_y)) ** 100\n",
        "mape = calculate_mape(test_y, y_pred)"
      ],
      "metadata": {
        "id": "-yPuCamwf1s0"
      },
      "execution_count": null,
      "outputs": []
    },
    {
      "cell_type": "code",
      "source": [
        "#visualize y_pred against test_y\n",
        "plt.scatter(y_pred, test_y, color = 'blue')\n",
        "\n",
        "plt.xlabel('Preediction')\n",
        "plt.ylabel('Actual')\n",
        "plt.title('Linear regression prediction vs Actual Data')\n",
        "plt.show()"
      ],
      "metadata": {
        "id": "1wMka6Jbg-Zh"
      },
      "execution_count": null,
      "outputs": []
    },
    {
      "cell_type": "code",
      "source": [
        "#Create a KDE plot to visualize the distribution of residuals\n",
        "import seaborn as sns\n",
        "residuals = test_y - y_pred\n",
        "sns.kdeplot(residuals, shade=True)\n",
        "\n",
        "plt.xlabel('residuals')\n",
        "plt.ylabel('Density')\n",
        "plt.title('residuals Distribution(KDE Plot))')\n",
        "plt.show()"
      ],
      "metadata": {
        "id": "pvA3anxyiohp"
      },
      "execution_count": null,
      "outputs": []
    },
    {
      "cell_type": "code",
      "source": [
        "#Print MAPE\n",
        "print(f\"Mean absolute percentage error (MAPE): {mape:.2f}%\")"
      ],
      "metadata": {
        "id": "EgtgWQLZkjhR"
      },
      "execution_count": null,
      "outputs": []
    },
    {
      "cell_type": "markdown",
      "source": [
        "** DecisionTreeRegressor**"
      ],
      "metadata": {
        "id": "sj89red3FZWv"
      }
    },
    {
      "cell_type": "code",
      "source": [],
      "metadata": {
        "id": "Hm0V8LGXFtcC"
      },
      "execution_count": null,
      "outputs": []
    },
    {
      "cell_type": "code",
      "source": [
        "import pandas as pd\n",
        "import numpy as np\n",
        "from sklearn.model_selection import train_test_split\n",
        "from sklearn.tree import DecisionTreeRegressor\n",
        "from sklearn.metrics import mean_absolute_percentage_error\n",
        "import seaborn as sns\n",
        "import matplotlib.pyplot as plt"
      ],
      "metadata": {
        "id": "Ly3HbUm6B_AO"
      },
      "execution_count": null,
      "outputs": []
    },
    {
      "cell_type": "code",
      "source": [
        "# Building the DecisionTreeRegressor model\n",
        "model_decTree = DecisionTreeRegressor(random_state=42)\n",
        "model_decTree.fit(train_x, train_y)\n",
        "\n",
        "# Making predictions on the test data\n",
        "y_pred_decTree = model_decTree.predict(test_x)"
      ],
      "metadata": {
        "id": "bGIOh8ocDNkW"
      },
      "execution_count": null,
      "outputs": []
    },
    {
      "cell_type": "code",
      "source": [
        "\n",
        "mape_decTree = calculate_mape(test_y, y_pred_decTree)"
      ],
      "metadata": {
        "id": "0WGerWXDD6kh"
      },
      "execution_count": null,
      "outputs": []
    },
    {
      "cell_type": "code",
      "source": [
        "#visualize y_pred against test_y\n",
        "plt.scatter(y_pred_decTree, test_y, color = 'blue')\n",
        "\n",
        "plt.xlabel('Preediction')\n",
        "plt.ylabel('Actual')\n",
        "plt.title('Descision tree regression Prediction  vs Actual Data')\n",
        "plt.show()"
      ],
      "metadata": {
        "id": "uiEOscbpENvC"
      },
      "execution_count": null,
      "outputs": []
    },
    {
      "cell_type": "code",
      "source": [
        "#Create a KDE plot to visualize the distribution of residuals\n",
        "\n",
        "residuals = test_y - y_pred_decTree\n",
        "sns.kdeplot(residuals, shade=True)\n",
        "\n",
        "plt.xlabel('residuals')\n",
        "plt.ylabel('Density')\n",
        "plt.title('residuals Distribution(KDE Plot))')\n",
        "plt.show()"
      ],
      "metadata": {
        "id": "8Z_pxbC6ErNf"
      },
      "execution_count": null,
      "outputs": []
    },
    {
      "cell_type": "code",
      "source": [
        "#Print MAPE\n",
        "print(f\"Mean absolute percentage error (MAPE): {mape_decTree:.2f}%\")"
      ],
      "metadata": {
        "id": "vkRy6CRPFFRS"
      },
      "execution_count": null,
      "outputs": []
    },
    {
      "cell_type": "markdown",
      "source": [
        "\n",
        "**RandomForestRegressor** model\n",
        "\n"
      ],
      "metadata": {
        "id": "TtMMv2heFvC5"
      }
    },
    {
      "cell_type": "code",
      "source": [
        "from sklearn.ensemble import RandomForestRegressor\n",
        "from sklearn.metrics import mean_absolute_percentage_error"
      ],
      "metadata": {
        "id": "Y3KtHY_2FukV"
      },
      "execution_count": null,
      "outputs": []
    },
    {
      "cell_type": "code",
      "source": [
        "#Initialize the model\n",
        "model_rfreg = RandomForestRegressor()\n",
        "#train (fir) the model on the training data\n",
        "model_rfreg.fit(train_x, train_y)\n",
        "\n",
        "# Making predictions on the test data\n",
        "y_pred_rfreg = model_rfreg.predict(test_x)\n",
        "\n",
        "# Calculating Mean Absolute Percentage Error (MAPE)\n",
        "mape_rfreg = calculate_mape(test_y, y_pred_rfreg)"
      ],
      "metadata": {
        "id": "6_qm4mphF9Dn"
      },
      "execution_count": null,
      "outputs": []
    },
    {
      "cell_type": "code",
      "source": [
        "#visualize y_pred against test_y\n",
        "plt.scatter(y_pred_rfreg, test_y, color = 'red')\n",
        "\n",
        "plt.xlabel('Preediction')\n",
        "plt.ylabel('Actual')\n",
        "plt.title('Random Forest  regression Prediction  vs Actual Data')\n",
        "plt.grid(True)\n",
        "plt.show()"
      ],
      "metadata": {
        "id": "8y_BC1nKHHnZ"
      },
      "execution_count": null,
      "outputs": []
    },
    {
      "cell_type": "code",
      "source": [
        "#Create a KDE plot to visualize the distribution of residuals\n",
        "\n",
        "residuals = test_y - y_pred_rfreg\n",
        "sns.kdeplot(residuals, shade=True)\n",
        "\n",
        "plt.xlabel('residuals')\n",
        "plt.ylabel('Density')\n",
        "plt.title('Residuals Distribution(KDE Plot))')\n",
        "plt.grid(True)\n",
        "plt.show()"
      ],
      "metadata": {
        "id": "KmF2ZJG7HjBH"
      },
      "execution_count": null,
      "outputs": []
    },
    {
      "cell_type": "code",
      "source": [
        "#Print MAPE\n",
        "print(f\"Mean absolute percentage error (MAPE): {mape_rfreg:.2f}%\")"
      ],
      "metadata": {
        "id": "cuZwTYFIH0F6"
      },
      "execution_count": null,
      "outputs": []
    },
    {
      "cell_type": "markdown",
      "source": [
        "**Supprt Vector regression Model**[link text](https://)"
      ],
      "metadata": {
        "id": "0BGwxM0UJNRZ"
      }
    },
    {
      "cell_type": "code",
      "source": [
        "from sklearn.svm import SVR"
      ],
      "metadata": {
        "id": "Ix0hUSGNJtl6"
      },
      "execution_count": null,
      "outputs": []
    },
    {
      "cell_type": "code",
      "source": [
        "model_svr = SVR()\n",
        "model_svr.fit(train_x, train_y)\n",
        "# Making predictions on the test data\n",
        "y_pred_svr = model_svr.predict(test_x)\n",
        "\n",
        "# Calculating Mean Absolute Percentage Error (MAPE)\n",
        "mape_svr = calculate_mape(test_y, y_pred_svr)\n"
      ],
      "metadata": {
        "id": "jhaqW-xCJ1A5"
      },
      "execution_count": null,
      "outputs": []
    },
    {
      "cell_type": "code",
      "source": [
        "# Visualizing y_pred against test_y\n",
        "plt.figure(figsize=(10, 6))\n",
        "plt.scatter(y_pred_svr,test_y,color= 'green', alpha=0.5)\n",
        "plt.xlabel('Predicted Values')\n",
        "plt.ylabel('Actual Values')\n",
        "plt.title('Support vector regressor  vs Predicted Values')\n",
        "plt.grid(True)\n",
        "plt.show()"
      ],
      "metadata": {
        "id": "mk5s7Ac-KZ4L"
      },
      "execution_count": null,
      "outputs": []
    },
    {
      "cell_type": "code",
      "source": [
        "#Create a KDE plot to visualize the distribution of residuals\n",
        "\n",
        "residuals = test_y - y_pred_svr\n",
        "sns.kdeplot(residuals, shade=True)\n",
        "\n",
        "plt.xlabel('residuals')\n",
        "plt.ylabel('Density')\n",
        "plt.title('Residuals Distribution(KDE Plot))')\n",
        "plt.grid(True)\n",
        "plt.show()"
      ],
      "metadata": {
        "id": "RiuD4ag9MQiM"
      },
      "execution_count": null,
      "outputs": []
    },
    {
      "cell_type": "code",
      "source": [
        "#Print MAPE\n",
        "print(f\"Mean absolute percentage error (MAPE): {mape_svr:.2f}%\")"
      ],
      "metadata": {
        "id": "16YemcKAMbyn"
      },
      "execution_count": null,
      "outputs": []
    },
    {
      "cell_type": "code",
      "source": [],
      "metadata": {
        "id": "Pb_2pISCPNVY"
      },
      "execution_count": null,
      "outputs": []
    },
    {
      "cell_type": "markdown",
      "source": [
        "**this is very poor model to predict the refund amount .**: to select best model based on above models and SVR is very poor to predect refund amount"
      ],
      "metadata": {
        "id": "q4-XWfdwMvSD"
      }
    },
    {
      "cell_type": "markdown",
      "source": [
        "**#SGBOOST Model**"
      ],
      "metadata": {
        "id": "CGkpLQuuNq3K"
      }
    },
    {
      "cell_type": "code",
      "source": [
        "from sklearn.experimental import enable_hist_gradient_boosting\n",
        "from sklearn.ensemble import HistGradientBoostingRegressor"
      ],
      "metadata": {
        "id": "xc6wBMiaNpQH"
      },
      "execution_count": null,
      "outputs": []
    },
    {
      "cell_type": "code",
      "source": [
        "model_HGboostR = HistGradientBoostingRegressor()\n",
        "model_HGboostR.fit(train_x, train_y)\n",
        "\n",
        "# Making predictions on the test data\n",
        "y_pred_HGboostR = model_HGboostR.predict(test_x)\n",
        "\n",
        "# Calculating Mean Absolute Percentage Error (MAPE)\n",
        "mape_HGboostR = calculate_mape(test_y, y_pred_HGboostR)"
      ],
      "metadata": {
        "id": "O89olciLOPom"
      },
      "execution_count": null,
      "outputs": []
    },
    {
      "cell_type": "code",
      "source": [
        "# Visualizing y_pred against test_y\n",
        "plt.figure(figsize=(10, 6))\n",
        "plt.scatter(y_pred_HGboostR,test_y,color= 'orange', alpha=0.5)\n",
        "plt.xlabel('Predicted Values')\n",
        "plt.ylabel('Actual Values')\n",
        "plt.title('HGboostR vector regressor  vs Predicted Values')\n",
        "plt.grid(True)\n",
        "plt.show()"
      ],
      "metadata": {
        "id": "FnwRIvt_OzzN"
      },
      "execution_count": null,
      "outputs": []
    },
    {
      "cell_type": "code",
      "source": [
        "#Create a KDE plot to visualize the distribution of residuals\n",
        "\n",
        "residuals = test_y - y_pred_HGboostR\n",
        "sns.kdeplot(residuals, shade=True)\n",
        "\n",
        "plt.xlabel('residuals')\n",
        "plt.ylabel('Density')\n",
        "plt.title('y_pred_HGboostR Distribution(KDE Plot))')\n",
        "plt.grid(True)\n",
        "plt.show()"
      ],
      "metadata": {
        "id": "2UOK0hbqPDlv"
      },
      "execution_count": null,
      "outputs": []
    },
    {
      "cell_type": "code",
      "source": [
        "#Print MAPE\n",
        "print(f\"Mean absolute percentage error (MAPE): {mape_HGboostR:.2f}%\")"
      ],
      "metadata": {
        "id": "1DS6bPeDPS6j"
      },
      "execution_count": null,
      "outputs": []
    }
  ]
}