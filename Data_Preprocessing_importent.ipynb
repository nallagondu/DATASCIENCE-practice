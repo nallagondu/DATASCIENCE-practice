{
  "nbformat": 4,
  "nbformat_minor": 0,
  "metadata": {
    "colab": {
      "private_outputs": true,
      "provenance": [],
      "authorship_tag": "ABX9TyODjFeMGh0EXHKIeafMRebI",
      "include_colab_link": true
    },
    "kernelspec": {
      "name": "python3",
      "display_name": "Python 3"
    },
    "language_info": {
      "name": "python"
    }
  },
  "cells": [
    {
      "cell_type": "markdown",
      "metadata": {
        "id": "view-in-github",
        "colab_type": "text"
      },
      "source": [
        "<a href=\"https://colab.research.google.com/github/nallagondu/DATASCIENCE-practice/blob/main/Data_Preprocessing_importent.ipynb\" target=\"_parent\"><img src=\"https://colab.research.google.com/assets/colab-badge.svg\" alt=\"Open In Colab\"/></a>"
      ]
    },
    {
      "cell_type": "code",
      "execution_count": null,
      "metadata": {
        "id": "IMeJmnYEwsSp"
      },
      "outputs": [],
      "source": [
        "\n",
        "!pip install -q requests xlrd\n",
        "import pandas as pd\n",
        "import requests\n"
      ]
    },
    {
      "cell_type": "code",
      "source": [
        "url = \"https://raw.githubusercontent.com/nallagondu/DATASCIENCE-practice/main/sales%20data.xlsx\"\n",
        "response = requests.get(url)\n",
        "\n",
        "# Save the response content to a file\n",
        "with open(\"sales_data.xlsx\", \"wb\") as file:\n",
        "    file.write(response.content)\n",
        "\n",
        "# Read the Excel file into a DataFrame\n",
        "df = pd.read_excel(\"sales_data.xlsx\")\n",
        "\n",
        "# Display the first few rows of the DataFrame\n",
        "df.head()"
      ],
      "metadata": {
        "id": "AFCsWa-hw7HW"
      },
      "execution_count": null,
      "outputs": []
    },
    {
      "cell_type": "code",
      "source": [],
      "metadata": {
        "id": "a91bnDp2K-7X"
      },
      "execution_count": null,
      "outputs": []
    },
    {
      "cell_type": "code",
      "source": [
        "df.tail()"
      ],
      "metadata": {
        "id": "ul-LnMaExYA3"
      },
      "execution_count": null,
      "outputs": []
    },
    {
      "cell_type": "code",
      "source": [
        "df.describe()"
      ],
      "metadata": {
        "id": "fyzHJm10xkZJ"
      },
      "execution_count": null,
      "outputs": []
    },
    {
      "cell_type": "code",
      "source": [
        "df.drop_duplicates()"
      ],
      "metadata": {
        "id": "xt4kGn1tyH4S"
      },
      "execution_count": null,
      "outputs": []
    },
    {
      "cell_type": "code",
      "source": [
        "missing_values = df.isnull().sum()\n",
        "missing_values"
      ],
      "metadata": {
        "id": "HP452Jb3yZBy"
      },
      "execution_count": null,
      "outputs": []
    },
    {
      "cell_type": "code",
      "source": [],
      "metadata": {
        "id": "k3NBA2Y502QK"
      },
      "execution_count": null,
      "outputs": []
    },
    {
      "cell_type": "code",
      "source": [
        "\n",
        "from sklearn.impute import SimpleImputer\n"
      ],
      "metadata": {
        "id": "XPDyjXNzy2Ea"
      },
      "execution_count": null,
      "outputs": []
    },
    {
      "cell_type": "code",
      "source": [],
      "metadata": {
        "id": "Qm04o13q3mbz"
      },
      "execution_count": null,
      "outputs": []
    },
    {
      "cell_type": "code",
      "source": [
        "target_column = 'order_value_EUR'\n",
        "imputer = SimpleImputer(strategy='median')\n",
        "df[target_column] = imputer.fit_transform(df[[target_column]])"
      ],
      "metadata": {
        "id": "j0QyPJqazwqv"
      },
      "execution_count": null,
      "outputs": []
    },
    {
      "cell_type": "code",
      "source": [
        "df.isnull().sum()"
      ],
      "metadata": {
        "id": "WDhhZWJf0284"
      },
      "execution_count": null,
      "outputs": []
    },
    {
      "cell_type": "code",
      "source": [
        "target_column1 = 'device_type'\n",
        "imputer = SimpleImputer(strategy='most_frequent')\n",
        "df[target_column1] = imputer.fit_transform(df[[target_column1]])"
      ],
      "metadata": {
        "id": "iJgubxm91CeC"
      },
      "execution_count": null,
      "outputs": []
    },
    {
      "cell_type": "code",
      "source": [
        "df.isnull().sum()"
      ],
      "metadata": {
        "id": "hOWqKCbG1YM_"
      },
      "execution_count": null,
      "outputs": []
    },
    {
      "cell_type": "code",
      "source": [
        "df.drop_duplicates()"
      ],
      "metadata": {
        "id": "LNPle4C11diq"
      },
      "execution_count": null,
      "outputs": []
    },
    {
      "cell_type": "code",
      "source": [
        "df.isnull().sum()\n"
      ],
      "metadata": {
        "id": "YjR_plVo1k1Q"
      },
      "execution_count": null,
      "outputs": []
    },
    {
      "cell_type": "code",
      "source": [
        "df.describe()"
      ],
      "metadata": {
        "id": "0a5NIXg9104p"
      },
      "execution_count": null,
      "outputs": []
    },
    {
      "cell_type": "code",
      "source": [
        "#Simple variable containes mixed data\n",
        "mixed_data = df['cost']\n",
        "#create a empty list to copy non-numarical data\n",
        "non_numaric_values = []\n",
        "\n",
        "for value in mixed_data:\n",
        "  if isinstance(value,str) and not  value.isnumeric():\n",
        "    non_numaric_values.append(value)\n",
        "\n",
        "print(\"Non-Numaric values:\")\n",
        "print(non_numaric_values)\n"
      ],
      "metadata": {
        "id": "VVplmHNwCzZB"
      },
      "execution_count": null,
      "outputs": []
    },
    {
      "cell_type": "code",
      "source": [
        "mask = (df['cost'] == 'XXX')\n",
        "\n",
        "#remove rows that match the mask\n",
        "df = df[~mask]"
      ],
      "metadata": {
        "id": "1vxV27x9GMXE"
      },
      "execution_count": null,
      "outputs": []
    },
    {
      "cell_type": "code",
      "source": [
        "df['cost'] = df['cost'].astype(float)\n",
        "df.dtypes"
      ],
      "metadata": {
        "id": "L9pcWpEuHwmV"
      },
      "execution_count": null,
      "outputs": []
    },
    {
      "cell_type": "code",
      "source": [
        "df['date'] = df['date'].astype('datetime64')\n",
        "df.dtypes"
      ],
      "metadata": {
        "id": "h4yjaU80Ii7z"
      },
      "execution_count": null,
      "outputs": []
    },
    {
      "cell_type": "code",
      "source": [
        "df.head()"
      ],
      "metadata": {
        "id": "Apg2GdGaIvV8"
      },
      "execution_count": null,
      "outputs": []
    },
    {
      "cell_type": "code",
      "source": [
        "#to remove duplicates\n",
        "duplicates = df[df.duplicated()]\n",
        "duplicates"
      ],
      "metadata": {
        "id": "qeUuZcOjI7R2"
      },
      "execution_count": null,
      "outputs": []
    },
    {
      "cell_type": "code",
      "source": [
        "df_no_duplicates = df.drop_duplicates()\n",
        "df_no_duplicates"
      ],
      "metadata": {
        "id": "CiMvxvenJTuj"
      },
      "execution_count": null,
      "outputs": []
    },
    {
      "cell_type": "code",
      "source": [
        "cleaned_data = df_no_duplicates\n",
        "cleaned_data.head()"
      ],
      "metadata": {
        "id": "QQQC_GVcJyev"
      },
      "execution_count": null,
      "outputs": []
    },
    {
      "cell_type": "code",
      "source": [
        "cleaned_data.describe()"
      ],
      "metadata": {
        "id": "tdSZvnafKCR8"
      },
      "execution_count": null,
      "outputs": []
    },
    {
      "cell_type": "code",
      "source": [
        "cleaned_data.dtypes"
      ],
      "metadata": {
        "id": "FSTs7fSw2QvK"
      },
      "execution_count": null,
      "outputs": []
    },
    {
      "cell_type": "code",
      "source": [
        "#sort the data based on cost\n",
        "df_sorted_cost = df.sort_values(by='cost', ascending = True)\n",
        "df_sorted_cost"
      ],
      "metadata": {
        "id": "u1-yLTKtLB2_"
      },
      "execution_count": null,
      "outputs": []
    },
    {
      "cell_type": "code",
      "source": [
        "##sort the data based on country\n",
        "\n",
        "df_sorted_country = df.sort_values(by='country', ascending = True)\n",
        "df_sorted_country"
      ],
      "metadata": {
        "id": "CYTRGK6Ero26"
      },
      "execution_count": null,
      "outputs": []
    },
    {
      "cell_type": "code",
      "source": [
        "##sort the data based on data\n",
        "df_sorted_date = df.sort_values(by='date', ascending = True)\n",
        "df_sorted_date"
      ],
      "metadata": {
        "id": "fhNP84EwrzO3"
      },
      "execution_count": null,
      "outputs": []
    },
    {
      "cell_type": "code",
      "source": [
        "url = \"https://raw.githubusercontent.com/nallagondu/DATASCIENCE-practice/main/Extra Variable.xlsx\"\n",
        "response = requests.get(url)\n",
        "\n",
        "# Save the response content to a file\n",
        "with open(\"Extra Variable.xlsx\", \"wb\") as file:\n",
        "    file.write(response.content)\n",
        "\n",
        "# Read the Excel file into a DataFrame\n",
        "df = pd.read_excel(\"Extra Variable.xlsx\")\n",
        "\n",
        "# Display the first few rows of the DataFrame\n",
        "df.head()"
      ],
      "metadata": {
        "id": "9lvZXqvJdW8n"
      },
      "execution_count": null,
      "outputs": []
    },
    {
      "cell_type": "code",
      "source": [
        "# Merge data set Extra Variable.xlsx and \"sales_data.xlsx\n",
        "merged_df = df_sorted_date.merge(df, on='order_id')\n",
        "merged_df"
      ],
      "metadata": {
        "id": "ROKh7SosgjNc"
      },
      "execution_count": null,
      "outputs": []
    },
    {
      "cell_type": "code",
      "source": [
        "#To add extra data in previous Dataframe\n",
        "url = \"https://raw.githubusercontent.com/nallagondu/DATASCIENCE-practice/main/Extra Data.xlsx\"\n",
        "response = requests.get(url)\n",
        "\n",
        "# Save the response content to a file\n",
        "with open(\"Extra Data.xlsx\", \"wb\") as file:\n",
        "    file.write(response.content)\n",
        "\n",
        "# Read the Excel file into a DataFrame\n",
        "extra_df = pd.read_excel(\"Extra Data.xlsx\")\n",
        "\n",
        "# Display the first few rows of the DataFrame\n",
        "extra_df.head()\n"
      ],
      "metadata": {
        "id": "V-rGWwI4t875"
      },
      "execution_count": null,
      "outputs": []
    },
    {
      "cell_type": "code",
      "source": [
        "concatenated_df = pd.concat([merged_df, extra_df], ignore_index=True)"
      ],
      "metadata": {
        "id": "jRTqoecHujTX"
      },
      "execution_count": null,
      "outputs": []
    },
    {
      "cell_type": "code",
      "source": [
        "concatenated_df"
      ],
      "metadata": {
        "id": "lcGEjQaJuf1u"
      },
      "execution_count": null,
      "outputs": []
    },
    {
      "cell_type": "code",
      "source": [
        "# now we will learn about how to filter the Data Frame to include only rows where country is France\n",
        "filtered_df_france = concatenated_df[concatenated_df['country'] == 'France']\n",
        "\n",
        "filtered_df_france"
      ],
      "metadata": {
        "id": "uwg9XNDHsdIL"
      },
      "execution_count": null,
      "outputs": []
    },
    {
      "cell_type": "code",
      "source": [
        "# now we will learn about how to filter the Data Frame including with two or more data field ,\n",
        "# include  rows where country is France and Category is games\n",
        "filtered_df_france_final = concatenated_df[(concatenated_df['country'] == 'France') & (concatenated_df['category'] == 'Games' )]\n",
        "\n",
        "filtered_df_france_final"
      ],
      "metadata": {
        "id": "W4iADfKtswE1"
      },
      "execution_count": null,
      "outputs": []
    },
    {
      "cell_type": "code",
      "source": [],
      "metadata": {
        "id": "jOtMWOwP5L4_"
      },
      "execution_count": null,
      "outputs": []
    },
    {
      "cell_type": "code",
      "source": [
        "#create a pivot table to calculate mediam sales and cost, and purchase frequntly\n",
        "pivot_table = concatenated_df.pivot_table(index = 'customer_name',\n",
        "                                               values=['order_value_EUR', 'cost'],\n",
        "                                               aggfunc={'order_value_EUR': 'median', 'cost': 'median', 'customer_name': 'count'})\n",
        "#rename columns for clarity\n",
        "pivot_table.columns = ['Median Cost', 'Purchase Frequency', 'Median sales']\n",
        "\n",
        "pivot_table.columns\n"
      ],
      "metadata": {
        "id": "Mvor5MeD4-dz"
      },
      "execution_count": null,
      "outputs": []
    },
    {
      "cell_type": "code",
      "source": [
        "pivot_table"
      ],
      "metadata": {
        "id": "ITk-ylxBxDOg"
      },
      "execution_count": null,
      "outputs": []
    },
    {
      "cell_type": "code",
      "source": [
        "sorted_pivot_table = pivot_table.sort_values(by = 'Purchase Frequency', ascending=False)\n",
        "top10 = sorted_pivot_table[0:10]\n",
        "top10"
      ],
      "metadata": {
        "id": "RcXZboz19kmy"
      },
      "execution_count": null,
      "outputs": []
    },
    {
      "cell_type": "code",
      "source": [
        "top10.index"
      ],
      "metadata": {
        "id": "Yk86QFWZcS0U"
      },
      "execution_count": null,
      "outputs": []
    },
    {
      "cell_type": "code",
      "source": [
        "loyal_customers_names = ['Johns and Sons', 'Hessel-Stiedemann',\n",
        "       'Swaniawski, Runolfsson and Green', 'Dickinson, Hyatt and Berge',\n",
        "       'Murray, Reichel and Nolan', 'Rowe, Hermiston and Kessler',\n",
        "       'Larkin-Collier', 'Kihn Inc', 'Wisoky Inc', 'Tillman and Sons']\n",
        "#function to assign loyal customers or regular customers\n",
        "def customer_type(name):\n",
        "  if name in loyal_customers_names:\n",
        "      return \"Loyal Customer\"\n",
        "  else:\n",
        "      return \"regular customer\"\n",
        "\n",
        "\n",
        "concatenated_df['CustomerType'] =  concatenated_df['customer_name'].apply(customer_type)"
      ],
      "metadata": {
        "id": "xfQVayPewcfo"
      },
      "execution_count": null,
      "outputs": []
    },
    {
      "cell_type": "code",
      "source": [
        "concatenated_df"
      ],
      "metadata": {
        "id": "hXEuxFyLzMLs"
      },
      "execution_count": null,
      "outputs": []
    },
    {
      "cell_type": "code",
      "source": [
        " concatenated_df['CustomerType'].value_counts()"
      ],
      "metadata": {
        "id": "-LJ_gLWJbaD1"
      },
      "execution_count": null,
      "outputs": []
    },
    {
      "cell_type": "code",
      "source": [
        "#convert the Date column in to a date time type\n",
        "concatenated_df['date'] = pd.to_datetime(concatenated_df['date'])\n",
        "\n",
        "#Extract day ,month, and year into new column\n",
        "concatenated_df['Day'] = concatenated_df['date'].dt.day\n",
        "concatenated_df['Month'] = concatenated_df['date'].dt.month\n",
        "concatenated_df['Year'] = concatenated_df['date'].dt.year"
      ],
      "metadata": {
        "id": "j4pe0wuk6K3x"
      },
      "execution_count": null,
      "outputs": []
    },
    {
      "cell_type": "code",
      "source": [
        "concatenated_df.head()"
      ],
      "metadata": {
        "id": "g7oLj8VZI4dy"
      },
      "execution_count": null,
      "outputs": []
    },
    {
      "cell_type": "code",
      "source": [
        "concatenated_df"
      ],
      "metadata": {
        "id": "wK3Iu1JiJOdE"
      },
      "execution_count": null,
      "outputs": []
    },
    {
      "cell_type": "code",
      "source": [
        "concatenated_df['Year'].value_counts()"
      ],
      "metadata": {
        "id": "DK-NBSITJToQ"
      },
      "execution_count": null,
      "outputs": []
    },
    {
      "cell_type": "markdown",
      "source": [
        "**Assigning Numarical Variable**\n",
        "\n",
        "customer type encoded (1,0)"
      ],
      "metadata": {
        "id": "wyXt8HMYJ81k"
      }
    },
    {
      "cell_type": "code",
      "source": [
        "concatenated_df['CustomerType_encoded'] = concatenated_df['CustomerType'].replace({'Loyal Customer': 1,'regular customer': 0})"
      ],
      "metadata": {
        "id": "NRtwbGfYJ2zE"
      },
      "execution_count": null,
      "outputs": []
    },
    {
      "cell_type": "code",
      "source": [
        "concatenated_df"
      ],
      "metadata": {
        "id": "WVc7Kr3aKofV"
      },
      "execution_count": null,
      "outputs": []
    },
    {
      "cell_type": "code",
      "source": [
        "#Create Dummy variable for categorical columns\n",
        "dummy_df = pd.get_dummies(concatenated_df, columns = ['country', 'category','device_type'])"
      ],
      "metadata": {
        "id": "GMqhKNDQLRZY"
      },
      "execution_count": null,
      "outputs": []
    },
    {
      "cell_type": "code",
      "source": [
        "dummy_df.head()"
      ],
      "metadata": {
        "id": "n53ON0A2MKYQ"
      },
      "execution_count": null,
      "outputs": []
    },
    {
      "cell_type": "code",
      "source": [
        "#dependent varialbe y =\n",
        "y = dummy_df['refund']\n",
        "dummy_df.columns"
      ],
      "metadata": {
        "id": "Ftu8nqooMm21"
      },
      "execution_count": null,
      "outputs": []
    },
    {
      "cell_type": "code",
      "source": [
        "#list of categorical variables to drop\n",
        "variables_to_drop = ['date', 'customer_name','sales_manager','sales_rep', 'order_id','refund', 'CustomerType' ]\n",
        "\n",
        "#Drop the specified Columns\n",
        "x = dummy_df.drop(variables_to_drop, axis=1)"
      ],
      "metadata": {
        "id": "0mu4EZt6NNow"
      },
      "execution_count": null,
      "outputs": []
    },
    {
      "cell_type": "code",
      "source": [
        "x.columns"
      ],
      "metadata": {
        "id": "JkSoF-y_NwZt"
      },
      "execution_count": null,
      "outputs": []
    },
    {
      "cell_type": "code",
      "source": [
        "from sklearn.preprocessing import StandardScaler"
      ],
      "metadata": {
        "id": "qGeLzdBuOdr4"
      },
      "execution_count": null,
      "outputs": []
    },
    {
      "cell_type": "code",
      "source": [
        "#Initialize the standard scaler\n",
        "scaler = StandardScaler()\n",
        "\n",
        "#scale the numeric columns\n",
        "scaled_data = scaler.fit_transform(x)"
      ],
      "metadata": {
        "id": "Y7QXrwy6OqJ_"
      },
      "execution_count": null,
      "outputs": []
    },
    {
      "cell_type": "code",
      "source": [
        "scaled_data"
      ],
      "metadata": {
        "id": "KxRn33MDPPkS"
      },
      "execution_count": null,
      "outputs": []
    },
    {
      "cell_type": "markdown",
      "source": [
        "**Train Machine learning model **"
      ],
      "metadata": {
        "id": "JUlvofC8PYPh"
      }
    },
    {
      "cell_type": "code",
      "source": [
        "from sklearn.model_selection import train_test_split\n",
        "#split the data into training and testing sets\n",
        "train_x, test_x, train_y, test_y = train_test_split(scaled_data, y,test_size=.3, random_state=234)"
      ],
      "metadata": {
        "id": "Ew3dJRaZPWu2"
      },
      "execution_count": null,
      "outputs": []
    },
    {
      "cell_type": "code",
      "source": [
        "#https://delldigital.udemy.com/course/fast-track-machine-learning-in-python-chatgpt/learn/lecture/40487000#overview\n",
        "from sklearn.linear_model import LinearRegression\n",
        "from sklearn.metrics import mean_absolute_error\n",
        "import numpy as np\n",
        "import matplotlib.pyplot as plt\n",
        "\n"
      ],
      "metadata": {
        "id": "GRt9UB_iRHYK"
      },
      "execution_count": null,
      "outputs": []
    },
    {
      "cell_type": "code",
      "source": [
        "#Initialize the Linear regression model\n",
        "model = LinearRegression()\n",
        "#Train fit the model on the training data\n",
        "model.fit(train_x,train_y)\n",
        "\n",
        "#make predictions on the test data\n",
        "y_pred = model.predict(test_x)"
      ],
      "metadata": {
        "id": "U1J4cL9ke-9I"
      },
      "execution_count": null,
      "outputs": []
    },
    {
      "cell_type": "code",
      "source": [
        "#Calculate MAPE\n",
        "def calculate_mape(test_y, y_pred):\n",
        "  return np.mean(np.abs((test_y - y_pred) / test_y)) ** 100\n",
        "mape = calculate_mape(test_y, y_pred)"
      ],
      "metadata": {
        "id": "-yPuCamwf1s0"
      },
      "execution_count": null,
      "outputs": []
    },
    {
      "cell_type": "code",
      "source": [
        "#visualize y_pred against test_y\n",
        "plt.scatter(y_pred, test_y, color = 'blue')\n",
        "\n",
        "plt.xlabel('Preediction')\n",
        "plt.ylabel('Actual')\n",
        "plt.title('Linear regression prediction vs Actual Data')\n",
        "plt.show()"
      ],
      "metadata": {
        "id": "1wMka6Jbg-Zh"
      },
      "execution_count": null,
      "outputs": []
    },
    {
      "cell_type": "code",
      "source": [
        "#Create a KDE plot to visualize the distribution of residuals\n",
        "import seaborn as sns\n",
        "residuals = test_y - y_pred\n",
        "sns.kdeplot(residuals, shade=True)\n",
        "\n",
        "plt.xlabel('residuals')\n",
        "plt.ylabel('Density')\n",
        "plt.title('residuals Distribution(KDE Plot))')\n",
        "plt.show()"
      ],
      "metadata": {
        "id": "pvA3anxyiohp"
      },
      "execution_count": null,
      "outputs": []
    },
    {
      "cell_type": "code",
      "source": [
        "#Print MAPE\n",
        "print(f\"Mean absolute percentage error (MAPE): {mape:.2f}%\")"
      ],
      "metadata": {
        "id": "EgtgWQLZkjhR"
      },
      "execution_count": null,
      "outputs": []
    },
    {
      "cell_type": "markdown",
      "source": [
        "** DecisionTreeRegressor**"
      ],
      "metadata": {
        "id": "sj89red3FZWv"
      }
    },
    {
      "cell_type": "code",
      "source": [],
      "metadata": {
        "id": "Hm0V8LGXFtcC"
      },
      "execution_count": null,
      "outputs": []
    },
    {
      "cell_type": "code",
      "source": [
        "import pandas as pd\n",
        "import numpy as np\n",
        "from sklearn.model_selection import train_test_split\n",
        "from sklearn.tree import DecisionTreeRegressor\n",
        "from sklearn.metrics import mean_absolute_percentage_error\n",
        "import seaborn as sns\n",
        "import matplotlib.pyplot as plt"
      ],
      "metadata": {
        "id": "Ly3HbUm6B_AO"
      },
      "execution_count": null,
      "outputs": []
    },
    {
      "cell_type": "code",
      "source": [
        "# Building the DecisionTreeRegressor model\n",
        "model_decTree = DecisionTreeRegressor(random_state=42)\n",
        "model_decTree.fit(train_x, train_y)\n",
        "\n",
        "# Making predictions on the test data\n",
        "y_pred_decTree = model_decTree.predict(test_x)"
      ],
      "metadata": {
        "id": "bGIOh8ocDNkW"
      },
      "execution_count": null,
      "outputs": []
    },
    {
      "cell_type": "code",
      "source": [
        "\n",
        "mape_decTree = calculate_mape(test_y, y_pred_decTree)"
      ],
      "metadata": {
        "id": "0WGerWXDD6kh"
      },
      "execution_count": null,
      "outputs": []
    },
    {
      "cell_type": "code",
      "source": [
        "#visualize y_pred against test_y\n",
        "plt.scatter(y_pred_decTree, test_y, color = 'blue')\n",
        "\n",
        "plt.xlabel('Preediction')\n",
        "plt.ylabel('Actual')\n",
        "plt.title('Descision tree regression Prediction  vs Actual Data')\n",
        "plt.show()"
      ],
      "metadata": {
        "id": "uiEOscbpENvC"
      },
      "execution_count": null,
      "outputs": []
    },
    {
      "cell_type": "code",
      "source": [
        "#Create a KDE plot to visualize the distribution of residuals\n",
        "\n",
        "residuals = test_y - y_pred_decTree\n",
        "sns.kdeplot(residuals, shade=True)\n",
        "\n",
        "plt.xlabel('residuals')\n",
        "plt.ylabel('Density')\n",
        "plt.title('residuals Distribution(KDE Plot))')\n",
        "plt.show()"
      ],
      "metadata": {
        "id": "8Z_pxbC6ErNf"
      },
      "execution_count": null,
      "outputs": []
    },
    {
      "cell_type": "code",
      "source": [
        "#Print MAPE\n",
        "print(f\"Mean absolute percentage error (MAPE): {mape_decTree:.2f}%\")"
      ],
      "metadata": {
        "id": "vkRy6CRPFFRS"
      },
      "execution_count": null,
      "outputs": []
    },
    {
      "cell_type": "markdown",
      "source": [
        "\n",
        "**RandomForestRegressor** model\n",
        "\n"
      ],
      "metadata": {
        "id": "TtMMv2heFvC5"
      }
    },
    {
      "cell_type": "code",
      "source": [
        "from sklearn.ensemble import RandomForestRegressor\n",
        "from sklearn.metrics import mean_absolute_percentage_error"
      ],
      "metadata": {
        "id": "Y3KtHY_2FukV"
      },
      "execution_count": null,
      "outputs": []
    },
    {
      "cell_type": "code",
      "source": [
        "#Initialize the model\n",
        "model_rfreg = RandomForestRegressor()\n",
        "#train (fir) the model on the training data\n",
        "model_rfreg.fit(train_x, train_y)\n",
        "\n",
        "# Making predictions on the test data\n",
        "y_pred_rfreg = model_rfreg.predict(test_x)\n",
        "\n",
        "# Calculating Mean Absolute Percentage Error (MAPE)\n",
        "mape_rfreg = calculate_mape(test_y, y_pred_rfreg)"
      ],
      "metadata": {
        "id": "6_qm4mphF9Dn"
      },
      "execution_count": null,
      "outputs": []
    },
    {
      "cell_type": "code",
      "source": [
        "#visualize y_pred against test_y\n",
        "plt.scatter(y_pred_rfreg, test_y, color = 'red')\n",
        "\n",
        "plt.xlabel('Preediction')\n",
        "plt.ylabel('Actual')\n",
        "plt.title('Random Forest  regression Prediction  vs Actual Data')\n",
        "plt.grid(True)\n",
        "plt.show()"
      ],
      "metadata": {
        "id": "8y_BC1nKHHnZ"
      },
      "execution_count": null,
      "outputs": []
    },
    {
      "cell_type": "code",
      "source": [
        "#Create a KDE plot to visualize the distribution of residuals\n",
        "\n",
        "residuals = test_y - y_pred_rfreg\n",
        "sns.kdeplot(residuals, shade=True)\n",
        "\n",
        "plt.xlabel('residuals')\n",
        "plt.ylabel('Density')\n",
        "plt.title('Residuals Distribution(KDE Plot))')\n",
        "plt.grid(True)\n",
        "plt.show()"
      ],
      "metadata": {
        "id": "KmF2ZJG7HjBH"
      },
      "execution_count": null,
      "outputs": []
    },
    {
      "cell_type": "code",
      "source": [
        "#Print MAPE\n",
        "print(f\"Mean absolute percentage error (MAPE): {mape_rfreg:.2f}%\")"
      ],
      "metadata": {
        "id": "cuZwTYFIH0F6"
      },
      "execution_count": null,
      "outputs": []
    },
    {
      "cell_type": "markdown",
      "source": [
        "**Supprt Vector regression Model**[link text](https://)"
      ],
      "metadata": {
        "id": "0BGwxM0UJNRZ"
      }
    },
    {
      "cell_type": "code",
      "source": [
        "from sklearn.svm import SVR"
      ],
      "metadata": {
        "id": "Ix0hUSGNJtl6"
      },
      "execution_count": null,
      "outputs": []
    },
    {
      "cell_type": "code",
      "source": [
        "model_svr = SVR()\n",
        "model_svr.fit(train_x, train_y)\n",
        "# Making predictions on the test data\n",
        "y_pred_svr = model_svr.predict(test_x)\n",
        "\n",
        "# Calculating Mean Absolute Percentage Error (MAPE)\n",
        "mape_svr = calculate_mape(test_y, y_pred_svr)\n"
      ],
      "metadata": {
        "id": "jhaqW-xCJ1A5"
      },
      "execution_count": null,
      "outputs": []
    },
    {
      "cell_type": "code",
      "source": [
        "# Visualizing y_pred against test_y\n",
        "plt.figure(figsize=(10, 6))\n",
        "plt.scatter(y_pred_svr,test_y,color= 'green', alpha=0.5)\n",
        "plt.xlabel('Predicted Values')\n",
        "plt.ylabel('Actual Values')\n",
        "plt.title('Support vector regressor  vs Predicted Values')\n",
        "plt.grid(True)\n",
        "plt.show()"
      ],
      "metadata": {
        "id": "mk5s7Ac-KZ4L"
      },
      "execution_count": null,
      "outputs": []
    },
    {
      "cell_type": "code",
      "source": [
        "#Create a KDE plot to visualize the distribution of residuals\n",
        "\n",
        "residuals = test_y - y_pred_svr\n",
        "sns.kdeplot(residuals, shade=True)\n",
        "\n",
        "plt.xlabel('residuals')\n",
        "plt.ylabel('Density')\n",
        "plt.title('Residuals Distribution(KDE Plot))')\n",
        "plt.grid(True)\n",
        "plt.show()"
      ],
      "metadata": {
        "id": "RiuD4ag9MQiM"
      },
      "execution_count": null,
      "outputs": []
    },
    {
      "cell_type": "code",
      "source": [
        "#Print MAPE\n",
        "print(f\"Mean absolute percentage error (MAPE): {mape_svr:.2f}%\")"
      ],
      "metadata": {
        "id": "16YemcKAMbyn"
      },
      "execution_count": null,
      "outputs": []
    },
    {
      "cell_type": "code",
      "source": [],
      "metadata": {
        "id": "Pb_2pISCPNVY"
      },
      "execution_count": null,
      "outputs": []
    },
    {
      "cell_type": "markdown",
      "source": [
        "**this is very poor model to predict the refund amount .**: to select best model based on above models and SVR is very poor to predect refund amount"
      ],
      "metadata": {
        "id": "q4-XWfdwMvSD"
      }
    },
    {
      "cell_type": "markdown",
      "source": [
        "**#SGBOOST Model**"
      ],
      "metadata": {
        "id": "CGkpLQuuNq3K"
      }
    },
    {
      "cell_type": "code",
      "source": [
        "from sklearn.experimental import enable_hist_gradient_boosting\n",
        "from sklearn.ensemble import HistGradientBoostingRegressor"
      ],
      "metadata": {
        "id": "xc6wBMiaNpQH"
      },
      "execution_count": null,
      "outputs": []
    },
    {
      "cell_type": "code",
      "source": [
        "model_HGboostR = HistGradientBoostingRegressor()\n",
        "model_HGboostR.fit(train_x, train_y)\n",
        "\n",
        "# Making predictions on the test data\n",
        "y_pred_HGboostR = model_HGboostR.predict(test_x)\n",
        "\n",
        "# Calculating Mean Absolute Percentage Error (MAPE)\n",
        "mape_HGboostR = calculate_mape(test_y, y_pred_HGboostR)"
      ],
      "metadata": {
        "id": "O89olciLOPom"
      },
      "execution_count": null,
      "outputs": []
    },
    {
      "cell_type": "code",
      "source": [
        "# Visualizing y_pred against test_y\n",
        "plt.figure(figsize=(10, 6))\n",
        "plt.scatter(y_pred_HGboostR,test_y,color= 'orange', alpha=0.5)\n",
        "plt.xlabel('Predicted Values')\n",
        "plt.ylabel('Actual Values')\n",
        "plt.title('HGboostR vector regressor  vs Predicted Values')\n",
        "plt.grid(True)\n",
        "plt.show()"
      ],
      "metadata": {
        "id": "FnwRIvt_OzzN"
      },
      "execution_count": null,
      "outputs": []
    },
    {
      "cell_type": "code",
      "source": [
        "#Create a KDE plot to visualize the distribution of residuals\n",
        "\n",
        "residuals = test_y - y_pred_HGboostR\n",
        "sns.kdeplot(residuals, shade=True)\n",
        "\n",
        "plt.xlabel('residuals')\n",
        "plt.ylabel('Density')\n",
        "plt.title('y_pred_HGboostR Distribution(KDE Plot))')\n",
        "plt.grid(True)\n",
        "plt.show()"
      ],
      "metadata": {
        "id": "2UOK0hbqPDlv"
      },
      "execution_count": null,
      "outputs": []
    },
    {
      "cell_type": "code",
      "source": [
        "#Print MAPE\n",
        "print(f\"Mean absolute percentage error (MAPE): {mape_HGboostR:.2f}%\")"
      ],
      "metadata": {
        "id": "1DS6bPeDPS6j"
      },
      "execution_count": null,
      "outputs": []
    },
    {
      "cell_type": "markdown",
      "source": [
        "The **Mean Absolute Percentage Error (MAPE)** is a commonly used metric for evaluating the accuracy of forecasts or predictions, particularly in time series analysis and regression problems. It measures the average percentage difference between the predicted values and the actual values. MAPE is expressed as a percentage, and lower values indicate better accuracy.\n",
        "\n",
        "Here's the formula for calculating MAPE:\n",
        "\n",
        "![image.png](data:image/png;base64,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)\n",
        "\n",
        "\n",
        "Interpretation: MAPE indicates the average percentage difference between the predicted and actual values. For example, a MAPE of 5% means that, on average, the predictions are off by 5% from the actual values.\n",
        "\n",
        "Scale Independence: MAPE is scale-independent, meaning it can be used to compare the accuracy of models across different datasets and units of measurement.\n",
        "\n",
        "Sensitivity to Zero Values: MAPE is sensitive to zero values in the actual data. If any\n",
        "Ai\n",
        "  value is zero, the MAPE calculation will result in undefined values. To address this, you can add a small constant (e.g., 0.0001) to both the actual and predicted values.\n",
        "\n",
        "Robustness: MAPE is robust to outliers because it calculates the percentage difference, rather than the absolute difference, between predicted and actual values.\n",
        "\n",
        "Limitations: MAPE has some limitations, particularly when the actual values are close to zero. In such cases, small absolute errors can lead to disproportionately large percentage errors.\n",
        "\n",
        "Usage: MAPE is commonly used in business forecasting, demand planning, inventory management, and other areas where accurate predictions are essential."
      ],
      "metadata": {
        "id": "bCKz7C_vGJ7_"
      }
    },
    {
      "cell_type": "markdown",
      "source": [
        "next chapter :  Logistic Regression  ML Model"
      ],
      "metadata": {
        "id": "tf52GrcdHAcD"
      }
    }
  ]
}