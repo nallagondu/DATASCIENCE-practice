{
  "cells": [
    {
      "cell_type": "markdown",
      "metadata": {
        "id": "view-in-github",
        "colab_type": "text"
      },
      "source": [
        "<a href=\"https://colab.research.google.com/github/nallagondu/DATASCIENCE-practice/blob/main/HTTP_Log_Analysis_Via_Spark_gangi.ipynb\" target=\"_parent\"><img src=\"https://colab.research.google.com/assets/colab-badge.svg\" alt=\"Open In Colab\"/></a>"
      ]
    },
    {
      "cell_type": "code",
      "execution_count": null,
      "metadata": {
        "colab": {
          "base_uri": "https://localhost:8080/"
        },
        "id": "BhdrfVibZiGJ",
        "outputId": "3994c7bd-f6d3-4209-df48-443e650e60fb"
      },
      "outputs": [
        {
          "name": "stdout",
          "output_type": "stream",
          "text": [
            "/content/TestFileGenerator.py\n",
            "/content/logfiles.log\n",
            "/content/.config/.last_survey_prompt.yaml\n",
            "/content/.config/active_config\n",
            "/content/.config/config_sentinel\n",
            "/content/.config/gce\n",
            "/content/.config/default_configs.db\n",
            "/content/.config/.last_opt_in_prompt.yaml\n",
            "/content/.config/.last_update_check.json\n",
            "/content/.config/configurations/config_default\n",
            "/content/.config/logs/2023.12.18/14.23.38.210663.log\n",
            "/content/.config/logs/2023.12.18/14.23.24.153475.log\n",
            "/content/.config/logs/2023.12.18/14.22.34.853310.log\n",
            "/content/.config/logs/2023.12.18/14.23.01.527695.log\n",
            "/content/.config/logs/2023.12.18/14.23.15.463718.log\n",
            "/content/.config/logs/2023.12.18/14.23.39.295290.log\n",
            "/content/sample_data/anscombe.json\n",
            "/content/sample_data/README.md\n",
            "/content/sample_data/mnist_train_small.csv\n",
            "/content/sample_data/mnist_test.csv\n",
            "/content/sample_data/california_housing_test.csv\n",
            "/content/sample_data/california_housing_train.csv\n"
          ]
        }
      ],
      "source": [
        "# This Python 3 environment comes with many helpful analytics libraries installed\n",
        "# It is defined by the kaggle/python Docker image: https://github.com/kaggle/docker-python\n",
        "# For example, here's several helpful packages to load\n",
        "\n",
        "import numpy as np # linear algebra\n",
        "import pandas as pd # data processing, CSV file I/O (e.g. pd.read_csv)\n",
        "\n",
        "# Input data files are available in the read-only \"../input/\" directory\n",
        "# For example, running this (by clicking run or pressing Shift+Enter) will list all files under the input directory\n",
        "\n",
        "import os\n",
        "for dirname, _, filenames in os.walk('/content'):\n",
        "    for filename in filenames:\n",
        "        print(os.path.join(dirname, filename))\n",
        "\n",
        "# You can write up to 20GB to the current directory (/kaggle/working/) that gets preserved as output when you create a version using \"Save & Run All\"\n",
        "# You can also write temporary files to /kaggle/temp/, but they won't be saved outside of the current session"
      ]
    },
    {
      "cell_type": "code",
      "execution_count": null,
      "metadata": {
        "id": "_rfzCyOadB1v"
      },
      "outputs": [],
      "source": []
    },
    {
      "cell_type": "markdown",
      "metadata": {
        "id": "Wn5l6bHBc_LW"
      },
      "source": [
        "**Install PySpark¶**\n"
      ]
    },
    {
      "cell_type": "code",
      "execution_count": null,
      "metadata": {
        "colab": {
          "base_uri": "https://localhost:8080/"
        },
        "id": "DBE_E97Ic4D7",
        "outputId": "61c415f7-9846-46c0-ac80-e7f29cbcd3e0"
      },
      "outputs": [
        {
          "name": "stdout",
          "output_type": "stream",
          "text": [
            "Collecting pyspark\n",
            "  Downloading pyspark-3.5.0.tar.gz (316.9 MB)\n",
            "\u001b[2K     \u001b[90m━━━━━━━━━━━━━━━━━━━━━━━━━━━━━━━━━━━━━━━━\u001b[0m \u001b[32m316.9/316.9 MB\u001b[0m \u001b[31m3.3 MB/s\u001b[0m eta \u001b[36m0:00:00\u001b[0m\n",
            "\u001b[?25h  Preparing metadata (setup.py) ... \u001b[?25l\u001b[?25hdone\n",
            "Requirement already satisfied: py4j==0.10.9.7 in /usr/local/lib/python3.10/dist-packages (from pyspark) (0.10.9.7)\n",
            "Building wheels for collected packages: pyspark\n",
            "  Building wheel for pyspark (setup.py) ... \u001b[?25l\u001b[?25hdone\n",
            "  Created wheel for pyspark: filename=pyspark-3.5.0-py2.py3-none-any.whl size=317425345 sha256=6b54e4e8c9ebf28d711cc2c5f0579dfd6055dc3f7dd251cab10d9d573ae5195b\n",
            "  Stored in directory: /root/.cache/pip/wheels/41/4e/10/c2cf2467f71c678cfc8a6b9ac9241e5e44a01940da8fbb17fc\n",
            "Successfully built pyspark\n",
            "Installing collected packages: pyspark\n",
            "Successfully installed pyspark-3.5.0\n"
          ]
        }
      ],
      "source": [
        "!pip install pyspark"
      ]
    },
    {
      "cell_type": "markdown",
      "metadata": {
        "id": "1hOMGx5JdE9v"
      },
      "source": [
        "**Initialize the pyspark environment, load the text log file, parse the file so we have structure**"
      ]
    },
    {
      "cell_type": "code",
      "execution_count": null,
      "metadata": {
        "id": "B5EoMpWudMXI"
      },
      "outputs": [],
      "source": [
        "import pyspark\n",
        "from pyspark import SparkConf\n",
        "from pyspark.sql import SparkSession\n",
        "from pyspark.sql import Row\n",
        "\n",
        "\n",
        "appName = 'process-log-files'\n",
        "path = \"/content/logfiles.log\"\n",
        "\n",
        "\n",
        "spark = SparkSession \\\n",
        "    .builder \\\n",
        "    .appName(appName) \\\n",
        "    .getOrCreate()\n",
        "\n",
        "def parseLine(row):\n",
        "    line = row.value\n",
        "    tokens = line.split()\n",
        "    ip = tokens[0]\n",
        "    method = tokens[5][1:]\n",
        "    path = tokens[6]\n",
        "    status = tokens[8]\n",
        "    endPoint = f\"{method} {path}\"\n",
        "    return Row(ip=ip, method=method, path=path, status=status, endPoint=endPoint)\n",
        "\n",
        "\n",
        "parsedRDD = spark.read.text(path) \\\n",
        "    .rdd \\\n",
        "    .map(parseLine)"
      ]
    },
    {
      "cell_type": "code",
      "execution_count": null,
      "metadata": {
        "colab": {
          "base_uri": "https://localhost:8080/"
        },
        "id": "kfzfpv6NdtSV",
        "outputId": "1e7e7bae-090e-4acb-9ccb-53b91d2a3c53"
      },
      "outputs": [
        {
          "data": {
            "text/plain": [
              "25993"
            ]
          },
          "execution_count": 5,
          "metadata": {},
          "output_type": "execute_result"
        }
      ],
      "source": [
        "parsedRDD.count()"
      ]
    },
    {
      "cell_type": "markdown",
      "metadata": {
        "id": "mf7rCK7bdjWi"
      },
      "source": [
        "**Group all requests by the IP address, and find the IPs that send out most requests.**"
      ]
    },
    {
      "cell_type": "code",
      "execution_count": null,
      "metadata": {
        "colab": {
          "base_uri": "https://localhost:8080/"
        },
        "id": "lnil3Jsbd4XL",
        "outputId": "1946f281-14a1-4597-dd47-7ef091a10f3e"
      },
      "outputs": [
        {
          "data": {
            "text/plain": [
              "[('162.253.4.179', 1),\n",
              " ('160.36.208.51', 1),\n",
              " ('59.107.116.6', 1),\n",
              " ('137.196.118.126', 1),\n",
              " ('144.140.97.239', 1)]"
            ]
          },
          "execution_count": 6,
          "metadata": {},
          "output_type": "execute_result"
        }
      ],
      "source": [
        "ipCountRddSorted = parsedRDD.groupBy(lambda r: r.ip)\\\n",
        "    .map(lambda r: (r[0], len(list(r[1])))) \\\n",
        "    .sortBy(lambda r: r[1], ascending=False)\n",
        "\n",
        "ipCountRddSorted.take(5)"
      ]
    },
    {
      "cell_type": "markdown",
      "metadata": {
        "id": "kVrQPcyCeJSo"
      },
      "source": [
        "As the result shows, each IP sends out at most 2 requests, we do not have a lot of requests from certain IPs.\n",
        "Now let's find the most popular endpoints, and their traffic bold text"
      ]
    },
    {
      "cell_type": "code",
      "execution_count": null,
      "metadata": {
        "id": "4fvbTcOVeHYX"
      },
      "outputs": [],
      "source": [
        "endpointCountRddSorted = parsedRDD.groupBy(lambda r: r.endPoint)\\\n",
        "    .map(lambda r: (r[0], len(list(r[1])))) \\\n",
        "    .sortBy(lambda r: r[1], ascending=False)"
      ]
    },
    {
      "cell_type": "code",
      "execution_count": null,
      "metadata": {
        "colab": {
          "base_uri": "https://localhost:8080/"
        },
        "id": "YIr-kQF8eZHB",
        "outputId": "d38c7d7c-7616-4f1b-8a86-18067985fc5c"
      },
      "outputs": [
        {
          "name": "stdout",
          "output_type": "stream",
          "text": [
            "[('POST /usr', 1372), ('POST /usr/admin/developer', 1355), ('PUT /usr/admin/developer', 1343), ('DELETE /usr/admin', 1340), ('PUT /usr/register', 1326)]\n"
          ]
        }
      ],
      "source": [
        "top5Endpoints = endpointCountRddSorted.take(5)\n",
        "print(top5Endpoints)"
      ]
    },
    {
      "cell_type": "code",
      "execution_count": null,
      "metadata": {
        "colab": {
          "base_uri": "https://localhost:8080/"
        },
        "id": "ja5c37Tfeh3d",
        "outputId": "92da93b4-ef84-4e2c-c8aa-911407a0ce10"
      },
      "outputs": [
        {
          "data": {
            "text/plain": [
              "[('162.253.4.179', 1),\n",
              " ('160.36.208.51', 1),\n",
              " ('59.107.116.6', 1),\n",
              " ('137.196.118.126', 1),\n",
              " ('144.140.97.239', 1)]"
            ]
          },
          "execution_count": 11,
          "metadata": {},
          "output_type": "execute_result"
        }
      ],
      "source": [
        "top5IP = ipCountRddSorted.take(5)\n",
        "top5IP"
      ]
    },
    {
      "cell_type": "code",
      "execution_count": null,
      "metadata": {
        "id": "GVWHWEQderqD"
      },
      "outputs": [],
      "source": [
        "spark = SparkSession \\\n",
        "    .builder \\\n",
        "    .appName(appName) \\\n",
        "    .getOrCreate()"
      ]
    },
    {
      "cell_type": "code",
      "execution_count": null,
      "metadata": {
        "colab": {
          "base_uri": "https://localhost:8080/"
        },
        "id": "iAsOQxNteu3w",
        "outputId": "1d93f30e-8f37-42ee-e9f3-f94e6af395d3"
      },
      "outputs": [
        {
          "data": {
            "text/plain": [
              "[('spark.app.name', 'process-log-files'),\n",
              " ('spark.driver.host', 'e98ea3aa8c5e'),\n",
              " ('spark.executor.id', 'driver'),\n",
              " ('spark.sql.warehouse.dir', 'file:/content/spark-warehouse'),\n",
              " ('spark.driver.extraJavaOptions',\n",
              "  '-Djava.net.preferIPv6Addresses=false -XX:+IgnoreUnrecognizedVMOptions --add-opens=java.base/java.lang=ALL-UNNAMED --add-opens=java.base/java.lang.invoke=ALL-UNNAMED --add-opens=java.base/java.lang.reflect=ALL-UNNAMED --add-opens=java.base/java.io=ALL-UNNAMED --add-opens=java.base/java.net=ALL-UNNAMED --add-opens=java.base/java.nio=ALL-UNNAMED --add-opens=java.base/java.util=ALL-UNNAMED --add-opens=java.base/java.util.concurrent=ALL-UNNAMED --add-opens=java.base/java.util.concurrent.atomic=ALL-UNNAMED --add-opens=java.base/sun.nio.ch=ALL-UNNAMED --add-opens=java.base/sun.nio.cs=ALL-UNNAMED --add-opens=java.base/sun.security.action=ALL-UNNAMED --add-opens=java.base/sun.util.calendar=ALL-UNNAMED --add-opens=java.security.jgss/sun.security.krb5=ALL-UNNAMED -Djdk.reflect.useDirectMethodHandle=false'),\n",
              " ('spark.rdd.compress', 'True'),\n",
              " ('spark.driver.port', '39895'),\n",
              " ('spark.serializer.objectStreamReset', '100'),\n",
              " ('spark.app.id', 'local-1703012576702'),\n",
              " ('spark.master', 'local[*]'),\n",
              " ('spark.submit.pyFiles', ''),\n",
              " ('spark.submit.deployMode', 'client'),\n",
              " ('spark.ui.showConsoleProgress', 'true'),\n",
              " ('spark.app.startTime', '1703012573763'),\n",
              " ('spark.executor.extraJavaOptions',\n",
              "  '-Djava.net.preferIPv6Addresses=false -XX:+IgnoreUnrecognizedVMOptions --add-opens=java.base/java.lang=ALL-UNNAMED --add-opens=java.base/java.lang.invoke=ALL-UNNAMED --add-opens=java.base/java.lang.reflect=ALL-UNNAMED --add-opens=java.base/java.io=ALL-UNNAMED --add-opens=java.base/java.net=ALL-UNNAMED --add-opens=java.base/java.nio=ALL-UNNAMED --add-opens=java.base/java.util=ALL-UNNAMED --add-opens=java.base/java.util.concurrent=ALL-UNNAMED --add-opens=java.base/java.util.concurrent.atomic=ALL-UNNAMED --add-opens=java.base/sun.nio.ch=ALL-UNNAMED --add-opens=java.base/sun.nio.cs=ALL-UNNAMED --add-opens=java.base/sun.security.action=ALL-UNNAMED --add-opens=java.base/sun.util.calendar=ALL-UNNAMED --add-opens=java.security.jgss/sun.security.krb5=ALL-UNNAMED -Djdk.reflect.useDirectMethodHandle=false'),\n",
              " ('spark.app.submitTime', '1703012573528')]"
            ]
          },
          "execution_count": 13,
          "metadata": {},
          "output_type": "execute_result"
        }
      ],
      "source": [
        "spark.sparkContext.getConf().getAll()"
      ]
    },
    {
      "cell_type": "code",
      "execution_count": null,
      "metadata": {
        "colab": {
          "base_uri": "https://localhost:8080/"
        },
        "id": "_jUl-lOye1_N",
        "outputId": "cf024021-85b3-4e8e-8640-c4a50e7c392d"
      },
      "outputs": [
        {
          "name": "stdout",
          "output_type": "stream",
          "text": [
            "+--------------------+\n",
            "|               value|\n",
            "+--------------------+\n",
            "|233.223.117.90 - ...|\n",
            "|162.253.4.179 - -...|\n",
            "|252.156.232.172 -...|\n",
            "|182.215.249.159 -...|\n",
            "|160.36.208.51 - -...|\n",
            "|255.231.52.33 - -...|\n",
            "|238.217.83.154 - ...|\n",
            "|119.170.1.203 - -...|\n",
            "|59.107.116.6 - - ...|\n",
            "|137.196.118.126 -...|\n",
            "|26.167.128.186 - ...|\n",
            "|144.140.97.239 - ...|\n",
            "|86.194.222.239 - ...|\n",
            "|254.54.186.144 - ...|\n",
            "|55.25.7.93 - - [2...|\n",
            "|154.131.45.155 - ...|\n",
            "|207.194.20.187 - ...|\n",
            "|202.8.213.171 - -...|\n",
            "|26.44.136.193 - -...|\n",
            "|217.20.3.105 - - ...|\n",
            "+--------------------+\n",
            "only showing top 20 rows\n",
            "\n"
          ]
        }
      ],
      "source": [
        "path = \"/content/logfiles.log\"\n",
        "df1 = spark.read.text(path)\n",
        "df1.show()"
      ]
    },
    {
      "cell_type": "code",
      "execution_count": null,
      "metadata": {
        "colab": {
          "base_uri": "https://localhost:8080/"
        },
        "id": "TUGGpHHdfAdT",
        "outputId": "226a9b69-71f1-4cf2-91bb-0766fa183242"
      },
      "outputs": [
        {
          "data": {
            "text/plain": [
              "pyspark.rdd.RDD"
            ]
          },
          "execution_count": 15,
          "metadata": {},
          "output_type": "execute_result"
        }
      ],
      "source": [
        "type(df1)\n",
        "type(df1.rdd)"
      ]
    },
    {
      "cell_type": "code",
      "execution_count": null,
      "metadata": {
        "id": "B3omBS5JfD57"
      },
      "outputs": [],
      "source": [
        "rdd = df1.rdd"
      ]
    },
    {
      "cell_type": "code",
      "execution_count": null,
      "metadata": {
        "colab": {
          "base_uri": "https://localhost:8080/"
        },
        "id": "Ear5pHuAfHKk",
        "outputId": "19c5b5eb-c998-41dd-c73c-81c261acb577"
      },
      "outputs": [
        {
          "data": {
            "text/plain": [
              "Row(value='233.223.117.90 - - [27/Dec/2037:12:00:00 +0530] \"DELETE /usr/admin HTTP/1.0\" 502 4963 \"-\" \"Mozilla/5.0 (Windows NT 10.0; Win64; x64) AppleWebKit/537.36 (KHTML, like Gecko) Chrome/89.0.4380.0 Safari/537.36 Edg/89.0.759.0\" 45')"
            ]
          },
          "execution_count": 17,
          "metadata": {},
          "output_type": "execute_result"
        }
      ],
      "source": [
        "rdd.first()"
      ]
    },
    {
      "cell_type": "markdown",
      "metadata": {
        "id": "rZeFmhTCfMI_"
      },
      "source": [
        "**Parse each line of log into structure data¶**"
      ]
    },
    {
      "cell_type": "code",
      "execution_count": null,
      "metadata": {
        "id": "h6lp9IQ1fQQb"
      },
      "outputs": [],
      "source": [
        "from pyspark.sql import Row\n",
        "class LogLine:\n",
        "    def __init__(self, line):\n",
        "        #print(type(line))\n",
        "        self.parse(line)\n",
        "        pass\n",
        "\n",
        "    def parse(self, line):\n",
        "            tokens = line.split()\n",
        "            self.ip = tokens[0]\n",
        "            self.method = tokens[5][1:]\n",
        "            self.path = tokens[6]\n",
        "            self.status = tokens[8]\n",
        "            self.endPoint = f\"{self.method} {self.path}\"\n",
        "\n",
        "\n",
        "#             print(tokens)\n",
        "#             print(self.method)\n",
        "#             print(self.path)\n",
        "#             print(self.status)\n",
        "\n",
        "    def asRow(self):\n",
        "        return Row(ip=self.ip, method=self.method, path=self.path, status=self.status, endPoint=self.endPoint)\n",
        "\n",
        "def parseLine(line):\n",
        "    return LogLine(line).asRow()\n",
        "\n",
        "\n",
        "# line = '233.223.117.90 - - [27/Dec/2037:12:00:00 +0530] \"DELETE /usr/admin HTTP/1.0\" 502 4963 \"-\" \"Mozilla/5.0 (Windows NT 10.0; Win64; x64) AppleWebKit/537.36 (KHTML, like Gecko) Chrome/89.0.4380.0 Safari/537.36 Edg/89.0.759.0\" 45'\n",
        "\n",
        "# logLine = LogLine(line)\n"
      ]
    },
    {
      "cell_type": "code",
      "execution_count": null,
      "metadata": {
        "colab": {
          "base_uri": "https://localhost:8080/"
        },
        "id": "ioa6DXcYfX8w",
        "outputId": "8ccb5997-ef0a-420f-8079-a3854d670f31"
      },
      "outputs": [
        {
          "data": {
            "text/plain": [
              "PythonRDD[53] at RDD at PythonRDD.scala:53"
            ]
          },
          "execution_count": 19,
          "metadata": {},
          "output_type": "execute_result"
        }
      ],
      "source": [
        "parsedRdd = rdd.map(lambda x: parseLine(x.value))\n",
        "\n",
        "parsedRdd"
      ]
    },
    {
      "cell_type": "markdown",
      "metadata": {
        "id": "6zYTvH31fci8"
      },
      "source": [
        "**Group by IP, and find the top IP**"
      ]
    },
    {
      "cell_type": "code",
      "execution_count": 21,
      "metadata": {
        "id": "QbCYoqttfcMW"
      },
      "outputs": [],
      "source": [
        "ipCountRddSorted = parsedRdd.groupBy(lambda r: r.ip)\\\n",
        "    .map(lambda r: (r[0], len(list(r[1])))) \\\n",
        "    .sortBy(lambda r: r[1], ascending=False)"
      ]
    },
    {
      "cell_type": "code",
      "source": [
        "top40IPs = ipCountRddSorted.take(40)\n",
        "print(top40IPs)"
      ],
      "metadata": {
        "colab": {
          "base_uri": "https://localhost:8080/"
        },
        "id": "s6WL-a2UifNN",
        "outputId": "5e8158bc-f0ca-4593-80fe-841deef33852"
      },
      "execution_count": 22,
      "outputs": [
        {
          "output_type": "stream",
          "name": "stdout",
          "text": [
            "[('162.253.4.179', 1), ('160.36.208.51', 1), ('59.107.116.6', 1), ('137.196.118.126', 1), ('144.140.97.239', 1), ('86.194.222.239', 1), ('254.54.186.144', 1), ('207.194.20.187', 1), ('149.194.199.18', 1), ('115.101.165.251', 1), ('211.69.213.210', 1), ('125.87.60.188', 1), ('183.129.168.199', 1), ('102.247.49.87', 1), ('230.230.213.17', 1), ('148.5.169.251', 1), ('90.64.62.239', 1), ('97.15.37.214', 1), ('159.238.93.133', 1), ('223.254.74.157', 1), ('66.181.188.94', 1), ('228.181.201.16', 1), ('172.175.150.80', 1), ('40.129.224.59', 1), ('183.51.44.206', 1), ('190.247.167.164', 1), ('183.155.98.170', 1), ('142.20.69.223', 1), ('157.44.23.213', 1), ('136.170.251.93', 1), ('85.2.215.227', 1), ('214.60.60.96', 1), ('93.234.0.101', 1), ('132.176.187.103', 1), ('213.127.117.32', 1), ('220.194.253.161', 1), ('247.61.75.27', 1), ('103.176.203.18', 1), ('68.226.160.154', 1), ('112.164.86.231', 1)]\n"
          ]
        }
      ]
    },
    {
      "cell_type": "code",
      "source": [
        "endpointCountRddSorted = parsedRdd.groupBy(lambda r: r.endPoint)\\\n",
        "    .map(lambda r: (r[0], len(list(r[1])))) \\\n",
        "    .sortBy(lambda r: r[1], ascending=False)"
      ],
      "metadata": {
        "id": "kMKavAgIinEl"
      },
      "execution_count": 23,
      "outputs": []
    },
    {
      "cell_type": "code",
      "source": [
        "top40Endpoints = endpointCountRddSorted.take(40)\n",
        "print(top40Endpoints)"
      ],
      "metadata": {
        "colab": {
          "base_uri": "https://localhost:8080/"
        },
        "id": "3DtV9rjTiqt0",
        "outputId": "475e39d9-b96e-4354-faa2-3edd72f3b418"
      },
      "execution_count": 24,
      "outputs": [
        {
          "output_type": "stream",
          "name": "stdout",
          "text": [
            "[('POST /usr', 1372), ('POST /usr/admin/developer', 1355), ('PUT /usr/admin/developer', 1343), ('DELETE /usr/admin', 1340), ('PUT /usr/register', 1326), ('GET /usr/register', 1326), ('GET /usr/admin/developer', 1324), ('DELETE /usr/admin/developer', 1309), ('PUT /usr/login', 1299), ('PUT /usr/admin', 1296), ('GET /usr/login', 1296), ('DELETE /usr', 1294), ('GET /usr', 1290), ('PUT /usr', 1288), ('DELETE /usr/login', 1284), ('GET /usr/admin', 1270), ('POST /usr/register', 1265), ('DELETE /usr/register', 1265), ('POST /usr/login', 1256), ('POST /usr/admin', 1195)]\n"
          ]
        }
      ]
    }
  ],
  "metadata": {
    "colab": {
      "provenance": [],
      "authorship_tag": "ABX9TyP1Pc3a2jpR5gd8zTgFdw7n",
      "include_colab_link": true
    },
    "kernelspec": {
      "display_name": "Python 3",
      "name": "python3"
    },
    "language_info": {
      "name": "python"
    }
  },
  "nbformat": 4,
  "nbformat_minor": 0
}