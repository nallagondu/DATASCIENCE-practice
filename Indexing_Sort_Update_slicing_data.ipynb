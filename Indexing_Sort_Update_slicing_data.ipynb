{
 "cells": [
  {
   "cell_type": "code",
   "execution_count": 1,
   "id": "4c92f417",
   "metadata": {
    "scrolled": true
   },
   "outputs": [
    {
     "name": "stdout",
     "output_type": "stream",
     "text": [
      "Defaulting to user installation because normal site-packages is not writeable\n",
      "Requirement already satisfied: pandas in c:\\programdata\\anaconda3\\lib\\site-packages (1.4.4)\n",
      "Requirement already satisfied: numpy>=1.18.5 in c:\\users\\nallag\\appdata\\roaming\\python\\python39\\site-packages (from pandas) (1.24.3)\n",
      "Requirement already satisfied: python-dateutil>=2.8.1 in c:\\programdata\\anaconda3\\lib\\site-packages (from pandas) (2.8.2)\n",
      "Requirement already satisfied: pytz>=2020.1 in c:\\programdata\\anaconda3\\lib\\site-packages (from pandas) (2022.1)\n",
      "Requirement already satisfied: six>=1.5 in c:\\programdata\\anaconda3\\lib\\site-packages (from python-dateutil>=2.8.1->pandas) (1.16.0)\n",
      "Defaulting to user installation because normal site-packages is not writeable\n",
      "Requirement already satisfied: numpy in c:\\users\\nallag\\appdata\\roaming\\python\\python39\\site-packages (1.24.3)\n",
      "Defaulting to user installation because normal site-packages is not writeable\n",
      "Requirement already satisfied: joblib in c:\\programdata\\anaconda3\\lib\\site-packages (1.1.0)\n"
     ]
    }
   ],
   "source": [
    "!pip install pandas \n",
    "!pip install numpy\n",
    "!pip install joblib"
   ]
  },
  {
   "cell_type": "code",
   "execution_count": 2,
   "id": "e3b060ce",
   "metadata": {},
   "outputs": [],
   "source": [
    "import numpy as np"
   ]
  },
  {
   "cell_type": "code",
   "execution_count": 3,
   "id": "26bb2d22",
   "metadata": {},
   "outputs": [],
   "source": [
    "arr = np.arange(13,30)"
   ]
  },
  {
   "cell_type": "code",
   "execution_count": 4,
   "id": "5ebb6ecf",
   "metadata": {},
   "outputs": [
    {
     "name": "stdout",
     "output_type": "stream",
     "text": [
      "array [13 14 15 16 17 18 19 20 21 22 23 24 25 26 27 28 29]\n"
     ]
    }
   ],
   "source": [
    "print(\"array\",arr)"
   ]
  },
  {
   "cell_type": "code",
   "execution_count": 5,
   "id": "0a2ba73f",
   "metadata": {},
   "outputs": [
    {
     "name": "stdout",
     "output_type": "stream",
     "text": [
      "array [17 18 19 20 21 22]\n"
     ]
    }
   ],
   "source": [
    "print(\"array\",arr[4:10])"
   ]
  },
  {
   "cell_type": "code",
   "execution_count": 6,
   "id": "356d158b",
   "metadata": {},
   "outputs": [
    {
     "data": {
      "text/plain": [
       "array([13, 14, 15, 16, 17, 18, 19, 20, 21, 22, 23, 24, 25, 26, 27, 28, 29])"
      ]
     },
     "execution_count": 6,
     "metadata": {},
     "output_type": "execute_result"
    }
   ],
   "source": [
    "arr"
   ]
  },
  {
   "cell_type": "code",
   "execution_count": 7,
   "id": "8a0d5421",
   "metadata": {},
   "outputs": [
    {
     "name": "stdout",
     "output_type": "stream",
     "text": [
      "arr details [29 27 25 23 21 19 17 15 13]\n"
     ]
    }
   ],
   "source": [
    "print(\"arr details\",arr[-1::-2])"
   ]
  },
  {
   "cell_type": "code",
   "execution_count": 8,
   "id": "9ec3671c",
   "metadata": {},
   "outputs": [
    {
     "name": "stdout",
     "output_type": "stream",
     "text": [
      "7 elements from last backwards are: [29 26 23]\n"
     ]
    }
   ],
   "source": [
    "print(\"7 elements from last backwards are:\",arr[-1:-8:-3])"
   ]
  },
  {
   "cell_type": "code",
   "execution_count": 9,
   "id": "87462ef0",
   "metadata": {},
   "outputs": [
    {
     "name": "stdout",
     "output_type": "stream",
     "text": [
      "new array: [ 0  2  4  6  8 10 12 14 16 18 20]\n"
     ]
    }
   ],
   "source": [
    "arr = np.arange(0,21,2)\n",
    "print(\"new array:\",arr)"
   ]
  },
  {
   "cell_type": "code",
   "execution_count": 10,
   "id": "fff005e4",
   "metadata": {},
   "outputs": [
    {
     "name": "stdout",
     "output_type": "stream",
     "text": [
      "new array elements at 2nd,4th, and 9th inde are: [ 4  8 18]\n"
     ]
    }
   ],
   "source": [
    "print(\"new array elements at 2nd,4th, and 9th inde are:\",arr[[2,4,9]] ) # pass a list as a ndex to subset"
   ]
  },
  {
   "cell_type": "code",
   "execution_count": 11,
   "id": "6876c21c",
   "metadata": {},
   "outputs": [
    {
     "data": {
      "text/plain": [
       "array([[1, 2, 3],\n",
       "       [4, 5, 6],\n",
       "       [7, 8, 9]])"
      ]
     },
     "execution_count": 11,
     "metadata": {},
     "output_type": "execute_result"
    }
   ],
   "source": [
    "my_mat = [[1,2,3],[4,5,6],[7,8,9]]\n",
    "mat = np.array(my_mat)\n",
    "mat"
   ]
  },
  {
   "cell_type": "code",
   "execution_count": 12,
   "id": "842fd14a",
   "metadata": {},
   "outputs": [
    {
     "name": "stdout",
     "output_type": "stream",
     "text": [
      "6\n"
     ]
    }
   ],
   "source": [
    "print(mat[1][2])"
   ]
  },
  {
   "cell_type": "code",
   "execution_count": 13,
   "id": "052aceb5",
   "metadata": {},
   "outputs": [
    {
     "name": "stdout",
     "output_type": "stream",
     "text": [
      "Entire row t index 2: [7 8 9]\n"
     ]
    }
   ],
   "source": [
    "print(\"Entire row t index 2:\",mat[2])"
   ]
  },
  {
   "cell_type": "code",
   "execution_count": 14,
   "id": "a2df0bc2",
   "metadata": {},
   "outputs": [
    {
     "name": "stdout",
     "output_type": "stream",
     "text": [
      "Entire row t index1: [4 5 6]\n"
     ]
    }
   ],
   "source": [
    "print(\"Entire row t index1:\",mat[1])"
   ]
  },
  {
   "cell_type": "code",
   "execution_count": 15,
   "id": "123d8fb6",
   "metadata": {},
   "outputs": [
    {
     "name": "stdout",
     "output_type": "stream",
     "text": [
      "Entercolum at index : [[2 3]\n",
      " [5 6]\n",
      " [8 9]]\n"
     ]
    }
   ],
   "source": [
    "print(\"Entercolum at index :\",mat[:,1:])"
   ]
  },
  {
   "cell_type": "code",
   "execution_count": 16,
   "id": "da151b51",
   "metadata": {},
   "outputs": [
    {
     "name": "stdout",
     "output_type": "stream",
     "text": [
      "matrix [[2 3]\n",
      " [5 6]]\n"
     ]
    }
   ],
   "source": [
    "print(\"matrix\",mat[0:2,[1,2]] )"
   ]
  },
  {
   "cell_type": "code",
   "execution_count": 17,
   "id": "5b0b3983",
   "metadata": {},
   "outputs": [],
   "source": [
    "emp_salary = [45000, 34500, 45678, 54677,200000]"
   ]
  },
  {
   "cell_type": "code",
   "execution_count": 18,
   "id": "7e75d71c",
   "metadata": {},
   "outputs": [
    {
     "data": {
      "text/plain": [
       "34500"
      ]
     },
     "execution_count": 18,
     "metadata": {},
     "output_type": "execute_result"
    }
   ],
   "source": [
    "emp_salary[1]"
   ]
  },
  {
   "cell_type": "code",
   "execution_count": 19,
   "id": "99f4920e",
   "metadata": {},
   "outputs": [
    {
     "data": {
      "text/plain": [
       "5"
      ]
     },
     "execution_count": 19,
     "metadata": {},
     "output_type": "execute_result"
    }
   ],
   "source": [
    "len(emp_salary)"
   ]
  },
  {
   "cell_type": "code",
   "execution_count": 20,
   "id": "55eca8e6",
   "metadata": {},
   "outputs": [
    {
     "data": {
      "text/plain": [
       "[34500, 45678, 54677]"
      ]
     },
     "execution_count": 20,
     "metadata": {},
     "output_type": "execute_result"
    }
   ],
   "source": [
    "emp_salary[1:4]"
   ]
  },
  {
   "cell_type": "code",
   "execution_count": null,
   "id": "10102e44",
   "metadata": {},
   "outputs": [],
   "source": []
  },
  {
   "cell_type": "code",
   "execution_count": null,
   "id": "c4df0c47",
   "metadata": {},
   "outputs": [],
   "source": []
  },
  {
   "cell_type": "code",
   "execution_count": null,
   "id": "b6af37b1",
   "metadata": {},
   "outputs": [],
   "source": []
  },
  {
   "cell_type": "code",
   "execution_count": null,
   "id": "e6ee130c",
   "metadata": {},
   "outputs": [],
   "source": []
  }
 ],
 "metadata": {
  "kernelspec": {
   "display_name": "Python 3 (ipykernel)",
   "language": "python",
   "name": "python3"
  },
  "language_info": {
   "codemirror_mode": {
    "name": "ipython",
    "version": 3
   },
   "file_extension": ".py",
   "mimetype": "text/x-python",
   "name": "python",
   "nbconvert_exporter": "python",
   "pygments_lexer": "ipython3",
   "version": "3.9.13"
  }
 },
 "nbformat": 4,
 "nbformat_minor": 5
}
