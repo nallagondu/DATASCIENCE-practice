{
 "cells": [
  {
   "cell_type": "code",
   "execution_count": null,
   "id": "ba87c610",
   "metadata": {},
   "outputs": [],
   "source": [
    "import logging\n"
   ]
  },
  {
   "cell_type": "code",
   "execution_count": null,
   "id": "f9195a7a",
   "metadata": {},
   "outputs": [],
   "source": [
    "logging.basicConfig(level=logging.DEBUG,\n",
    "format='%(asctime)s %(levelname)s %(message)s',\n",
    "      filename='logfiles.log',\n",
    "      filemode='w')"
   ]
  },
  {
   "cell_type": "code",
   "execution_count": null,
   "id": "5092c994",
   "metadata": {},
   "outputs": [],
   "source": [
    "logging.debug(\"Debug message\")\n",
    "\n",
    "logging.info(\"Informative message\")\n",
    "\n",
    "logging.error(\"Error message\")"
   ]
  },
  {
   "cell_type": "code",
   "execution_count": null,
   "id": "9a232b80",
   "metadata": {},
   "outputs": [],
   "source": []
  }
 ],
 "metadata": {
  "kernelspec": {
   "display_name": "Python 3 (ipykernel)",
   "language": "python",
   "name": "python3"
  },
  "language_info": {
   "codemirror_mode": {
    "name": "ipython",
    "version": 3
   },
   "file_extension": ".py",
   "mimetype": "text/x-python",
   "name": "python",
   "nbconvert_exporter": "python",
   "pygments_lexer": "ipython3",
   "version": "3.9.13"
  }
 },
 "nbformat": 4,
 "nbformat_minor": 5
}
