{
  "nbformat": 4,
  "nbformat_minor": 0,
  "metadata": {
    "colab": {
      "private_outputs": true,
      "provenance": [],
      "authorship_tag": "ABX9TyMB7DdXlMVa1v393SWHM8pB",
      "include_colab_link": true
    },
    "kernelspec": {
      "name": "python3",
      "display_name": "Python 3"
    },
    "language_info": {
      "name": "python"
    }
  },
  "cells": [
    {
      "cell_type": "markdown",
      "metadata": {
        "id": "view-in-github",
        "colab_type": "text"
      },
      "source": [
        "<a href=\"https://colab.research.google.com/github/nallagondu/DATASCIENCE-practice/blob/main/Kmeans_Clustating_Data_Preprocessing_importent.ipynb\" target=\"_parent\"><img src=\"https://colab.research.google.com/assets/colab-badge.svg\" alt=\"Open In Colab\"/></a>"
      ]
    },
    {
      "cell_type": "code",
      "execution_count": null,
      "metadata": {
        "id": "IMeJmnYEwsSp"
      },
      "outputs": [],
      "source": [
        "\n",
        "!pip install -q requests xlrd\n",
        "import pandas as pd\n",
        "import requests\n",
        "import numpy as np\n",
        "\n"
      ]
    },
    {
      "cell_type": "code",
      "source": [
        "url = \"https://raw.githubusercontent.com/nallagondu/DATASCIENCE-practice/main/sales%20data.xlsx\"\n",
        "response = requests.get(url)\n",
        "\n",
        "# Save the response content to a file\n",
        "with open(\"sales_data.xlsx\", \"wb\") as file:\n",
        "    file.write(response.content)\n",
        "\n",
        "# Read the Excel file into a DataFrame\n",
        "df = pd.read_excel(\"sales_data.xlsx\")\n",
        "\n",
        "# Display the first few rows of the DataFrame\n",
        "df.head()"
      ],
      "metadata": {
        "id": "AFCsWa-hw7HW"
      },
      "execution_count": null,
      "outputs": []
    },
    {
      "cell_type": "code",
      "source": [],
      "metadata": {
        "id": "a91bnDp2K-7X"
      },
      "execution_count": null,
      "outputs": []
    },
    {
      "cell_type": "code",
      "source": [
        "df.tail()"
      ],
      "metadata": {
        "id": "ul-LnMaExYA3"
      },
      "execution_count": null,
      "outputs": []
    },
    {
      "cell_type": "code",
      "source": [
        "df.describe()"
      ],
      "metadata": {
        "id": "fyzHJm10xkZJ"
      },
      "execution_count": null,
      "outputs": []
    },
    {
      "cell_type": "code",
      "source": [
        "df.drop_duplicates()"
      ],
      "metadata": {
        "id": "xt4kGn1tyH4S"
      },
      "execution_count": null,
      "outputs": []
    },
    {
      "cell_type": "code",
      "source": [
        "missing_values = df.isnull().sum()\n",
        "missing_values"
      ],
      "metadata": {
        "id": "HP452Jb3yZBy"
      },
      "execution_count": null,
      "outputs": []
    },
    {
      "cell_type": "code",
      "source": [],
      "metadata": {
        "id": "k3NBA2Y502QK"
      },
      "execution_count": null,
      "outputs": []
    },
    {
      "cell_type": "code",
      "source": [
        "\n",
        "from sklearn.impute import SimpleImputer\n"
      ],
      "metadata": {
        "id": "XPDyjXNzy2Ea"
      },
      "execution_count": null,
      "outputs": []
    },
    {
      "cell_type": "code",
      "source": [],
      "metadata": {
        "id": "Qm04o13q3mbz"
      },
      "execution_count": null,
      "outputs": []
    },
    {
      "cell_type": "code",
      "source": [
        "target_column = 'order_value_EUR'\n",
        "imputer = SimpleImputer(strategy='median')\n",
        "df[target_column] = imputer.fit_transform(df[[target_column]])"
      ],
      "metadata": {
        "id": "j0QyPJqazwqv"
      },
      "execution_count": null,
      "outputs": []
    },
    {
      "cell_type": "code",
      "source": [
        "df.isnull().sum()"
      ],
      "metadata": {
        "id": "WDhhZWJf0284"
      },
      "execution_count": null,
      "outputs": []
    },
    {
      "cell_type": "code",
      "source": [
        "target_column1 = 'device_type'\n",
        "imputer = SimpleImputer(strategy='most_frequent')\n",
        "df[target_column1] = imputer.fit_transform(df[[target_column1]])"
      ],
      "metadata": {
        "id": "iJgubxm91CeC"
      },
      "execution_count": null,
      "outputs": []
    },
    {
      "cell_type": "code",
      "source": [
        "df.isnull().sum()"
      ],
      "metadata": {
        "id": "hOWqKCbG1YM_"
      },
      "execution_count": null,
      "outputs": []
    },
    {
      "cell_type": "code",
      "source": [
        "df.drop_duplicates()"
      ],
      "metadata": {
        "id": "LNPle4C11diq"
      },
      "execution_count": null,
      "outputs": []
    },
    {
      "cell_type": "code",
      "source": [
        "df.isnull().sum()\n"
      ],
      "metadata": {
        "id": "YjR_plVo1k1Q"
      },
      "execution_count": null,
      "outputs": []
    },
    {
      "cell_type": "code",
      "source": [
        "df.describe()"
      ],
      "metadata": {
        "id": "0a5NIXg9104p"
      },
      "execution_count": null,
      "outputs": []
    },
    {
      "cell_type": "code",
      "source": [
        "#Simple variable containes mixed data\n",
        "mixed_data = df['cost']\n",
        "#create a empty list to copy non-numarical data\n",
        "non_numaric_values = []\n",
        "\n",
        "for value in mixed_data:\n",
        "  if isinstance(value,str) and not  value.isnumeric():\n",
        "    non_numaric_values.append(value)\n",
        "\n",
        "print(\"Non-Numaric values:\")\n",
        "print(non_numaric_values)\n"
      ],
      "metadata": {
        "id": "VVplmHNwCzZB"
      },
      "execution_count": null,
      "outputs": []
    },
    {
      "cell_type": "code",
      "source": [
        "mask = (df['cost'] == 'XXX')\n",
        "\n",
        "#remove rows that match the mask\n",
        "df = df[~mask]"
      ],
      "metadata": {
        "id": "1vxV27x9GMXE"
      },
      "execution_count": null,
      "outputs": []
    },
    {
      "cell_type": "code",
      "source": [
        "df['cost'] = df['cost'].astype(float)\n",
        "df.dtypes"
      ],
      "metadata": {
        "id": "L9pcWpEuHwmV"
      },
      "execution_count": null,
      "outputs": []
    },
    {
      "cell_type": "code",
      "source": [
        "df['date'] = df['date'].astype('datetime64')\n",
        "df.dtypes"
      ],
      "metadata": {
        "id": "h4yjaU80Ii7z"
      },
      "execution_count": null,
      "outputs": []
    },
    {
      "cell_type": "code",
      "source": [
        "df.head()"
      ],
      "metadata": {
        "id": "Apg2GdGaIvV8"
      },
      "execution_count": null,
      "outputs": []
    },
    {
      "cell_type": "code",
      "source": [
        "#to remove duplicates\n",
        "duplicates = df[df.duplicated()]\n",
        "duplicates"
      ],
      "metadata": {
        "id": "qeUuZcOjI7R2"
      },
      "execution_count": null,
      "outputs": []
    },
    {
      "cell_type": "code",
      "source": [
        "df_no_duplicates = df.drop_duplicates()\n",
        "df_no_duplicates"
      ],
      "metadata": {
        "id": "CiMvxvenJTuj"
      },
      "execution_count": null,
      "outputs": []
    },
    {
      "cell_type": "code",
      "source": [
        "cleaned_data = df_no_duplicates\n",
        "cleaned_data.head()"
      ],
      "metadata": {
        "id": "QQQC_GVcJyev"
      },
      "execution_count": null,
      "outputs": []
    },
    {
      "cell_type": "code",
      "source": [
        "cleaned_data.describe()"
      ],
      "metadata": {
        "id": "tdSZvnafKCR8"
      },
      "execution_count": null,
      "outputs": []
    },
    {
      "cell_type": "code",
      "source": [
        "cleaned_data.dtypes"
      ],
      "metadata": {
        "id": "FSTs7fSw2QvK"
      },
      "execution_count": null,
      "outputs": []
    },
    {
      "cell_type": "code",
      "source": [
        "#sort the data based on cost\n",
        "df_sorted_cost = df.sort_values(by='cost', ascending = True)\n",
        "df_sorted_cost"
      ],
      "metadata": {
        "id": "u1-yLTKtLB2_"
      },
      "execution_count": null,
      "outputs": []
    },
    {
      "cell_type": "code",
      "source": [
        "##sort the data based on country\n",
        "\n",
        "df_sorted_country = df.sort_values(by='country', ascending = True)\n",
        "df_sorted_country"
      ],
      "metadata": {
        "id": "CYTRGK6Ero26"
      },
      "execution_count": null,
      "outputs": []
    },
    {
      "cell_type": "code",
      "source": [
        "##sort the data based on data\n",
        "df_sorted_date = df.sort_values(by='date', ascending = True)\n",
        "df_sorted_date"
      ],
      "metadata": {
        "id": "fhNP84EwrzO3"
      },
      "execution_count": null,
      "outputs": []
    },
    {
      "cell_type": "code",
      "source": [
        "url = \"https://raw.githubusercontent.com/nallagondu/DATASCIENCE-practice/main/Extra Variable.xlsx\"\n",
        "response = requests.get(url)\n",
        "\n",
        "# Save the response content to a file\n",
        "with open(\"Extra Variable.xlsx\", \"wb\") as file:\n",
        "    file.write(response.content)\n",
        "\n",
        "# Read the Excel file into a DataFrame\n",
        "df = pd.read_excel(\"Extra Variable.xlsx\")\n",
        "\n",
        "# Display the first few rows of the DataFrame\n",
        "df.head()"
      ],
      "metadata": {
        "id": "9lvZXqvJdW8n"
      },
      "execution_count": null,
      "outputs": []
    },
    {
      "cell_type": "code",
      "source": [
        "# Merge data set Extra Variable.xlsx and \"sales_data.xlsx\n",
        "merged_df = df_sorted_date.merge(df, on='order_id')\n",
        "merged_df"
      ],
      "metadata": {
        "id": "ROKh7SosgjNc"
      },
      "execution_count": null,
      "outputs": []
    },
    {
      "cell_type": "code",
      "source": [
        "#To add extra data in previous Dataframe\n",
        "url = \"https://raw.githubusercontent.com/nallagondu/DATASCIENCE-practice/main/Extra Data.xlsx\"\n",
        "response = requests.get(url)\n",
        "\n",
        "# Save the response content to a file\n",
        "with open(\"Extra Data.xlsx\", \"wb\") as file:\n",
        "    file.write(response.content)\n",
        "\n",
        "# Read the Excel file into a DataFrame\n",
        "extra_df = pd.read_excel(\"Extra Data.xlsx\")\n",
        "\n",
        "# Display the first few rows of the DataFrame\n",
        "extra_df.head()\n"
      ],
      "metadata": {
        "id": "V-rGWwI4t875"
      },
      "execution_count": null,
      "outputs": []
    },
    {
      "cell_type": "code",
      "source": [
        "concatenated_df = pd.concat([merged_df, extra_df], ignore_index=True)"
      ],
      "metadata": {
        "id": "jRTqoecHujTX"
      },
      "execution_count": null,
      "outputs": []
    },
    {
      "cell_type": "code",
      "source": [
        "concatenated_df"
      ],
      "metadata": {
        "id": "lcGEjQaJuf1u"
      },
      "execution_count": null,
      "outputs": []
    },
    {
      "cell_type": "code",
      "source": [
        "# now we will learn about how to filter the Data Frame to include only rows where country is France\n",
        "filtered_df_france = concatenated_df[concatenated_df['country'] == 'France']\n",
        "\n",
        "filtered_df_france"
      ],
      "metadata": {
        "id": "uwg9XNDHsdIL"
      },
      "execution_count": null,
      "outputs": []
    },
    {
      "cell_type": "code",
      "source": [
        "# now we will learn about how to filter the Data Frame including with two or more data field ,\n",
        "# include  rows where country is France and Category is games\n",
        "filtered_df_france_final = concatenated_df[(concatenated_df['country'] == 'France') & (concatenated_df['category'] == 'Games' )]\n",
        "\n",
        "filtered_df_france_final"
      ],
      "metadata": {
        "id": "W4iADfKtswE1"
      },
      "execution_count": null,
      "outputs": []
    },
    {
      "cell_type": "code",
      "source": [],
      "metadata": {
        "id": "jOtMWOwP5L4_"
      },
      "execution_count": null,
      "outputs": []
    },
    {
      "cell_type": "code",
      "source": [
        "#create a pivot table to calculate mediam sales and cost, and purchase frequntly\n",
        "pivot_table = concatenated_df.pivot_table(index = 'customer_name',\n",
        "                                               values=['order_value_EUR', 'cost'],\n",
        "                                               aggfunc={'order_value_EUR': 'median', 'cost': 'median', 'customer_name': 'count'})\n",
        "#rename columns for clarity\n",
        "pivot_table.columns = ['Median Cost', 'Purchase Frequency', 'Median sales']\n",
        "\n",
        "pivot_table.columns\n"
      ],
      "metadata": {
        "id": "Mvor5MeD4-dz"
      },
      "execution_count": null,
      "outputs": []
    },
    {
      "cell_type": "code",
      "source": [
        "pivot_table"
      ],
      "metadata": {
        "id": "ITk-ylxBxDOg"
      },
      "execution_count": null,
      "outputs": []
    },
    {
      "cell_type": "code",
      "source": [
        "sorted_pivot_table = pivot_table.sort_values(by = 'Purchase Frequency', ascending=False)\n",
        "top10 = sorted_pivot_table[0:10]\n",
        "top10"
      ],
      "metadata": {
        "id": "RcXZboz19kmy"
      },
      "execution_count": null,
      "outputs": []
    },
    {
      "cell_type": "code",
      "source": [
        "import pandas as pd\n",
        "import numpy as np\n",
        "import matplotlib.pyplot as plt\n",
        "from sklearn.cluster import KMeans"
      ],
      "metadata": {
        "id": "6wuSeMziOK18"
      },
      "execution_count": null,
      "outputs": []
    },
    {
      "cell_type": "code",
      "source": [
        "#Define the number of clusters\n",
        "num_clusters = 2\n",
        "# select the feature you want to use for clustaring\n",
        "features = sorted_pivot_table\n",
        "#perform K-means clustaring\n",
        "kmeans = KMeans(n_clusters=num_clusters, random_state=42)\n",
        "sorted_pivot_table['Cluster'] = kmeans.fit_predict(features)\n",
        "#numeric_data = concatenated_df[['median_sales', 'median_cost', 'purchase_frequency']]"
      ],
      "metadata": {
        "id": "TVShMZiXOwCu"
      },
      "execution_count": null,
      "outputs": []
    },
    {
      "cell_type": "code",
      "source": [
        "sorted_pivot_table"
      ],
      "metadata": {
        "id": "uMoZ8PhxQOtt"
      },
      "execution_count": null,
      "outputs": []
    },
    {
      "cell_type": "code",
      "source": [
        "sorted_pivot_table['Cluster'].value_counts()"
      ],
      "metadata": {
        "id": "bj32MuKiQavr"
      },
      "execution_count": null,
      "outputs": []
    },
    {
      "cell_type": "code",
      "source": [
        "#Visualize\n",
        "plt.figure(figsize=(8,6))\n",
        "\n",
        "#scatter plot of median sales vs cost\n",
        "for  cluster in range(num_clusters):\n",
        "  plt.scatter(\n",
        "    sorted_pivot_table[sorted_pivot_table['Cluster'] == cluster]['Median sales'],\n",
        "    sorted_pivot_table[sorted_pivot_table['Cluster'] == cluster]['Purchase Frequency'],\n",
        "    label =f'Cluster {cluster + 1 }'\n",
        "  )\n",
        "plt.xlabel('Median sales')\n",
        "plt.ylabel('Purchase Frequency')\n",
        "plt.title('K-Means clustering')\n",
        "plt.legend()\n",
        "plt.show()"
      ],
      "metadata": {
        "id": "1B5R3mnPQpjp"
      },
      "execution_count": null,
      "outputs": []
    },
    {
      "cell_type": "code",
      "source": [
        "#Visualize\n",
        "plt.figure(figsize=(8,6))\n",
        "\n",
        "#scatter plot of median sales vs cost\n",
        "for  cluster in range(num_clusters):\n",
        "  plt.scatter(\n",
        "    sorted_pivot_table[sorted_pivot_table['Cluster'] == cluster]['Median sales'],\n",
        "    sorted_pivot_table[sorted_pivot_table['Cluster'] == cluster]['Median Cost'],\n",
        "    label =f'Cluster {cluster + 1 }'\n",
        "  )\n",
        "plt.xlabel('Median sales')\n",
        "plt.ylabel('Median Cost')\n",
        "plt.title('K-Means clustering')\n",
        "plt.legend()\n",
        "plt.show()"
      ],
      "metadata": {
        "id": "Y_Ygvex7Sdwq"
      },
      "execution_count": null,
      "outputs": []
    },
    {
      "cell_type": "code",
      "source": [
        "sorted_pivot_table['Cluster_type'] = sorted_pivot_table['Cluster'].replace({1:\"Regular Customer\", 0:\"Loyal Customer\"})"
      ],
      "metadata": {
        "id": "8GMXuKiGT6c5"
      },
      "execution_count": null,
      "outputs": []
    },
    {
      "cell_type": "code",
      "source": [
        "sorted_pivot_table"
      ],
      "metadata": {
        "id": "elEMjozHUmsk"
      },
      "execution_count": null,
      "outputs": []
    }
  ]
}