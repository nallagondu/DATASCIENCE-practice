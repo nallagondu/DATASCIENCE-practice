{
 "cells": [
  {
   "cell_type": "code",
   "execution_count": 1,
   "id": "225aebf4",
   "metadata": {},
   "outputs": [],
   "source": [
    "#remove\n",
    "rool_number = [100,200,300,400,500,600]\n"
   ]
  },
  {
   "cell_type": "code",
   "execution_count": 2,
   "id": "99015459",
   "metadata": {},
   "outputs": [
    {
     "data": {
      "text/plain": [
       "200"
      ]
     },
     "execution_count": 2,
     "metadata": {},
     "output_type": "execute_result"
    }
   ],
   "source": [
    "rool_number.pop(1)"
   ]
  },
  {
   "cell_type": "code",
   "execution_count": 3,
   "id": "9d887768",
   "metadata": {},
   "outputs": [
    {
     "data": {
      "text/plain": [
       "[100, 300, 400, 500, 600]"
      ]
     },
     "execution_count": 3,
     "metadata": {},
     "output_type": "execute_result"
    }
   ],
   "source": [
    "rool_number"
   ]
  },
  {
   "cell_type": "code",
   "execution_count": 4,
   "id": "dd31e361",
   "metadata": {},
   "outputs": [],
   "source": [
    "rool_number.insert(1,200)"
   ]
  },
  {
   "cell_type": "code",
   "execution_count": 5,
   "id": "f0207695",
   "metadata": {},
   "outputs": [
    {
     "data": {
      "text/plain": [
       "[100, 200, 300, 400, 500, 600]"
      ]
     },
     "execution_count": 5,
     "metadata": {},
     "output_type": "execute_result"
    }
   ],
   "source": [
    "rool_number"
   ]
  },
  {
   "cell_type": "code",
   "execution_count": 6,
   "id": "d9880dfd",
   "metadata": {},
   "outputs": [],
   "source": [
    "rool_number.insert(6,200)"
   ]
  },
  {
   "cell_type": "code",
   "execution_count": 7,
   "id": "7eee6894",
   "metadata": {},
   "outputs": [
    {
     "data": {
      "text/plain": [
       "[100, 200, 300, 400, 500, 600, 200]"
      ]
     },
     "execution_count": 7,
     "metadata": {},
     "output_type": "execute_result"
    }
   ],
   "source": [
    "rool_number"
   ]
  },
  {
   "cell_type": "code",
   "execution_count": 8,
   "id": "fc2a268e",
   "metadata": {},
   "outputs": [],
   "source": [
    "rool_number.remove(300)"
   ]
  },
  {
   "cell_type": "code",
   "execution_count": 9,
   "id": "b2ce280c",
   "metadata": {},
   "outputs": [
    {
     "data": {
      "text/plain": [
       "[100, 200, 400, 500, 600, 200]"
      ]
     },
     "execution_count": 9,
     "metadata": {},
     "output_type": "execute_result"
    }
   ],
   "source": [
    "rool_number"
   ]
  },
  {
   "cell_type": "code",
   "execution_count": 10,
   "id": "777377c1",
   "metadata": {},
   "outputs": [],
   "source": [
    "rool_number.reverse()"
   ]
  },
  {
   "cell_type": "code",
   "execution_count": 11,
   "id": "ddd254b7",
   "metadata": {},
   "outputs": [
    {
     "data": {
      "text/plain": [
       "[200, 600, 500, 400, 200, 100]"
      ]
     },
     "execution_count": 11,
     "metadata": {},
     "output_type": "execute_result"
    }
   ],
   "source": [
    "rool_number"
   ]
  },
  {
   "cell_type": "code",
   "execution_count": 12,
   "id": "e2b7073f",
   "metadata": {},
   "outputs": [],
   "source": [
    "rool_number.insert(2,300)"
   ]
  },
  {
   "cell_type": "code",
   "execution_count": 13,
   "id": "4b766390",
   "metadata": {},
   "outputs": [],
   "source": [
    "rool_number.insert(6,300)"
   ]
  },
  {
   "cell_type": "code",
   "execution_count": 14,
   "id": "7f583ef3",
   "metadata": {},
   "outputs": [
    {
     "data": {
      "text/plain": [
       "[200, 600, 300, 500, 400, 200, 300, 100]"
      ]
     },
     "execution_count": 14,
     "metadata": {},
     "output_type": "execute_result"
    }
   ],
   "source": [
    "rool_number"
   ]
  },
  {
   "cell_type": "code",
   "execution_count": 15,
   "id": "ad9726ff",
   "metadata": {},
   "outputs": [],
   "source": [
    "rool_number.remove(300)"
   ]
  },
  {
   "cell_type": "code",
   "execution_count": 16,
   "id": "307b258d",
   "metadata": {},
   "outputs": [
    {
     "data": {
      "text/plain": [
       "[200, 600, 500, 400, 200, 300, 100]"
      ]
     },
     "execution_count": 16,
     "metadata": {},
     "output_type": "execute_result"
    }
   ],
   "source": [
    "rool_number"
   ]
  },
  {
   "cell_type": "code",
   "execution_count": 17,
   "id": "f64caa94",
   "metadata": {},
   "outputs": [],
   "source": [
    "rool_number.remove(200)"
   ]
  },
  {
   "cell_type": "code",
   "execution_count": 18,
   "id": "f5d8e1a8",
   "metadata": {},
   "outputs": [
    {
     "data": {
      "text/plain": [
       "[600, 500, 400, 200, 300, 100]"
      ]
     },
     "execution_count": 18,
     "metadata": {},
     "output_type": "execute_result"
    }
   ],
   "source": [
    "rool_number"
   ]
  },
  {
   "cell_type": "code",
   "execution_count": 19,
   "id": "511aef9c",
   "metadata": {},
   "outputs": [],
   "source": [
    "rool_number.insert(6,300)"
   ]
  },
  {
   "cell_type": "code",
   "execution_count": 20,
   "id": "d4021fc0",
   "metadata": {},
   "outputs": [],
   "source": [
    "rool_number.insert(2,300)"
   ]
  },
  {
   "cell_type": "code",
   "execution_count": 21,
   "id": "c1bd4fa3",
   "metadata": {},
   "outputs": [],
   "source": [
    "rool_number.insert(2,300)"
   ]
  },
  {
   "cell_type": "code",
   "execution_count": 22,
   "id": "20365638",
   "metadata": {},
   "outputs": [
    {
     "data": {
      "text/plain": [
       "[600, 500, 300, 300, 400, 200, 300, 100, 300]"
      ]
     },
     "execution_count": 22,
     "metadata": {},
     "output_type": "execute_result"
    }
   ],
   "source": [
    "rool_number"
   ]
  },
  {
   "cell_type": "code",
   "execution_count": 23,
   "id": "e0bb25ea",
   "metadata": {},
   "outputs": [],
   "source": [
    "rool_number.remove(300)"
   ]
  },
  {
   "cell_type": "code",
   "execution_count": 24,
   "id": "c073f679",
   "metadata": {},
   "outputs": [
    {
     "data": {
      "text/plain": [
       "[600, 500, 300, 400, 200, 300, 100, 300]"
      ]
     },
     "execution_count": 24,
     "metadata": {},
     "output_type": "execute_result"
    }
   ],
   "source": [
    "rool_number"
   ]
  },
  {
   "cell_type": "code",
   "execution_count": 25,
   "id": "0693f2bc",
   "metadata": {},
   "outputs": [],
   "source": [
    "#list vs Tuple\n",
    "list []  ,tuple ()\n",
    "list: immutable  ,not -immutable\n",
    "list\n",
    "# list "
   ]
  },
  {
   "cell_type": "code",
   "execution_count": null,
   "id": "f6fff3fe",
   "metadata": {},
   "outputs": [],
   "source": []
  }
 ],
 "metadata": {
  "kernelspec": {
   "display_name": "Python 3 (ipykernel)",
   "language": "python",
   "name": "python3"
  },
  "language_info": {
   "codemirror_mode": {
    "name": "ipython",
    "version": 3
   },
   "file_extension": ".py",
   "mimetype": "text/x-python",
   "name": "python",
   "nbconvert_exporter": "python",
   "pygments_lexer": "ipython3",
   "version": "3.9.13"
  }
 },
 "nbformat": 4,
 "nbformat_minor": 5
}
