{
 "cells": [
  {
   "cell_type": "code",
   "execution_count": 98,
   "id": "70b61a52",
   "metadata": {},
   "outputs": [
    {
     "name": "stdout",
     "output_type": "stream",
     "text": [
      "Random number generation(form uniform distribution): \n",
      "[[0.22199317 0.87073231 0.20671916 0.91861091 0.48841119 0.61174386\n",
      "  0.76590786]\n",
      " [0.51841799 0.2968005  0.18772123 0.08074127 0.7384403  0.44130922\n",
      "  0.15830987]\n",
      " [0.87993703 0.27408646 0.41423502 0.29607993 0.62878791 0.57983781\n",
      "  0.5999292 ]\n",
      " [0.26581912 0.28468588 0.25358821 0.32756395 0.1441643  0.16561286\n",
      "  0.96393053]\n",
      " [0.96022672 0.18841466 0.02430656 0.20455555 0.69984361 0.77951459\n",
      "  0.02293309]\n",
      " [0.57766286 0.00164217 0.51547261 0.63979518 0.9856244  0.2590976\n",
      "  0.80249689]\n",
      " [0.87048309 0.92274961 0.00221421 0.46948837 0.98146874 0.3989448\n",
      "  0.81373248]\n",
      " [0.5464565  0.77085409 0.48493107 0.02911156 0.08652569 0.11145381\n",
      "  0.25124511]\n",
      " [0.96491529 0.63176605 0.8166602  0.566082   0.63535621 0.81190239\n",
      "  0.92668262]\n",
      " [0.91262676 0.82481072 0.09420273 0.36104842 0.03550903 0.54635835\n",
      "  0.79614272]]\n"
     ]
    }
   ],
   "source": [
    "np.random.seed(5)\n",
    "print(\"Random number generation(form uniform distribution): \")\n",
    "print(np.random.rand(10,7))"
   ]
  },
  {
   "cell_type": "code",
   "execution_count": 96,
   "id": "4a406739",
   "metadata": {},
   "outputs": [],
   "source": [
    "#Random number generation\n",
    "import numpy as np\n"
   ]
  },
  {
   "cell_type": "code",
   "execution_count": 97,
   "id": "4f7dd1a5",
   "metadata": {},
   "outputs": [
    {
     "name": "stdout",
     "output_type": "stream",
     "text": [
      "Numbers from normal distribution with zero mena and standerd deviation 1 i.e standerd normal:\n",
      "[[-1.15245668  0.60585079 -1.45095264]\n",
      " [ 0.33678691  0.15925172  0.16655069]\n",
      " [-0.69249262  0.58531776 -2.05366068]\n",
      " [ 0.55055514 -0.44652824 -0.60047848]\n",
      " [ 0.83084731 -0.26158377 -0.45608588]\n",
      " [ 0.96081056 -0.44173663  0.44613649]\n",
      " [ 0.63035595 -1.033613    1.44303152]\n",
      " [-1.34199885 -0.07487068 -0.96394042]\n",
      " [ 0.80141811 -2.05366369  1.66982846]\n",
      " [-0.15813881  0.1932608  -1.12585155]]\n"
     ]
    }
   ],
   "source": [
    "print(\"Numbers from normal distribution with zero mena and standerd deviation 1 i.e standerd normal:\")\n",
    "print(np.random.randn(10,3))"
   ]
  },
  {
   "cell_type": "code",
   "execution_count": 41,
   "id": "44f8984e",
   "metadata": {},
   "outputs": [
    {
     "name": "stdout",
     "output_type": "stream",
     "text": [
      "Random Integer Vector: [ 8 19 13 15 10 15 10  9  8 19]\n"
     ]
    }
   ],
   "source": [
    "print(\"Random Integer Vector:\",np.random.randint(5,20,10))\n"
   ]
  },
  {
   "cell_type": "code",
   "execution_count": 42,
   "id": "57bf8526",
   "metadata": {},
   "outputs": [
    {
     "name": "stdout",
     "output_type": "stream",
     "text": [
      "Random Integer Vector: [15 14 10 14 11 14 10  6 19  6]\n"
     ]
    }
   ],
   "source": [
    "print(\"Random Integer Vector:\",np.random.randint(5,20,10))"
   ]
  },
  {
   "cell_type": "code",
   "execution_count": 43,
   "id": "ea9e1da4",
   "metadata": {},
   "outputs": [
    {
     "name": "stdout",
     "output_type": "stream",
     "text": [
      "\n",
      "Random integer matrix\n",
      "[[ 1 29  9 15  1 14  6]\n",
      " [27 10 20 29 12  4 17]\n",
      " [20 24  4 24  4  3 23]\n",
      " [ 7 19 16  8  1  4 29]\n",
      " [24  6  2 28  7 28  8]\n",
      " [ 4 15 10  8 26 27  8]]\n"
     ]
    }
   ],
   "source": [
    "print(\"\\nRandom integer matrix\")\n",
    "print(np.random.randint(1,30,(6,7)))"
   ]
  },
  {
   "cell_type": "code",
   "execution_count": 46,
   "id": "7d278367",
   "metadata": {},
   "outputs": [
    {
     "data": {
      "text/plain": [
       "array([[27, 11, 33, 24, 18, 17, 17, 33, 15, 19],\n",
       "       [37, 21, 30, 21, 23, 18, 34, 28, 32, 32],\n",
       "       [31, 16, 16, 36, 10, 19, 12,  8, 11, 31],\n",
       "       [35, 26, 20, 22, 27,  7, 14, 17, 26, 14],\n",
       "       [ 3,  7, 19, 13, 26, 21, 28, 25, 10, 12],\n",
       "       [ 5,  6, 32, 32, 33, 28, 34, 15, 14, 21],\n",
       "       [12, 35, 39, 35,  2, 38,  2, 10, 26, 28],\n",
       "       [ 7, 31, 20, 14,  8, 23,  4, 24, 33, 14],\n",
       "       [ 7, 17, 24, 20, 33, 39, 20, 38, 38,  5],\n",
       "       [11,  2, 10, 19,  2, 27, 38, 16,  7, 15]])"
      ]
     },
     "execution_count": 46,
     "metadata": {},
     "output_type": "execute_result"
    }
   ],
   "source": [
    "a = np.random.randint(2,40,(10,10))\n",
    "a"
   ]
  },
  {
   "cell_type": "code",
   "execution_count": 48,
   "id": "27402fb7",
   "metadata": {},
   "outputs": [
    {
     "data": {
      "text/plain": [
       "array([[25, 11, 25, 24, 18, 17, 17, 25, 15, 19],\n",
       "       [25, 21, 25, 21, 23, 18, 25, 25, 25, 25],\n",
       "       [25, 16, 16, 25, 10, 19, 12,  8, 11, 25],\n",
       "       [25, 25, 20, 22, 25,  7, 14, 17, 25, 14],\n",
       "       [ 5,  7, 19, 13, 25, 21, 25, 25, 10, 12],\n",
       "       [ 5,  6, 25, 25, 25, 25, 25, 15, 14, 21],\n",
       "       [12, 25, 25, 25,  5, 25,  5, 10, 25, 25],\n",
       "       [ 7, 25, 20, 14,  8, 23,  5, 24, 25, 14],\n",
       "       [ 7, 17, 24, 20, 25, 25, 20, 25, 25,  5],\n",
       "       [11,  5, 10, 19,  5, 25, 25, 16,  7, 15]])"
      ]
     },
     "execution_count": 48,
     "metadata": {},
     "output_type": "execute_result"
    }
   ],
   "source": [
    "np.clip(a,a_min=5,a_max=25)"
   ]
  },
  {
   "cell_type": "code",
   "execution_count": null,
   "id": "f22a6cc0",
   "metadata": {},
   "outputs": [],
   "source": []
  },
  {
   "cell_type": "code",
   "execution_count": 64,
   "id": "f9566384",
   "metadata": {},
   "outputs": [
    {
     "data": {
      "text/plain": [
       "array([20, 13, 32, 31, 35, 32, 31, 31, 23,  8])"
      ]
     },
     "execution_count": 64,
     "metadata": {},
     "output_type": "execute_result"
    }
   ],
   "source": [
    "b = np.random.randint(2,40,10)\n",
    "b"
   ]
  },
  {
   "cell_type": "code",
   "execution_count": 65,
   "id": "6c975c17",
   "metadata": {},
   "outputs": [
    {
     "data": {
      "text/plain": [
       "array([20, 13, 25, 25, 25, 25, 25, 25, 23,  8])"
      ]
     },
     "execution_count": 65,
     "metadata": {},
     "output_type": "execute_result"
    }
   ],
   "source": [
    "np.clip(b, a_min=5, a_max=25)"
   ]
  },
  {
   "cell_type": "code",
   "execution_count": 62,
   "id": "5b6fb1e8",
   "metadata": {},
   "outputs": [
    {
     "name": "stdout",
     "output_type": "stream",
     "text": [
      "(array([2, 3, 4, 4, 5, 5, 6, 6, 7, 7, 7, 8, 8, 9, 9, 9], dtype=int64), array([7, 5, 0, 1, 0, 1, 4, 6, 0, 4, 6, 0, 9, 1, 4, 8], dtype=int64))\n"
     ]
    }
   ],
   "source": [
    "#it gives index details \n",
    "print(np.where(a < 10))"
   ]
  },
  {
   "cell_type": "code",
   "execution_count": 67,
   "id": "a04cbb91",
   "metadata": {},
   "outputs": [
    {
     "name": "stdout",
     "output_type": "stream",
     "text": [
      "(array([2, 4, 6, 9], dtype=int64), array([4, 8, 7, 2], dtype=int64))\n"
     ]
    }
   ],
   "source": [
    "#find the data existes in the array \n",
    "print(np.where(a == 10))"
   ]
  },
  {
   "cell_type": "code",
   "execution_count": 70,
   "id": "da0a36a7",
   "metadata": {},
   "outputs": [
    {
     "data": {
      "text/plain": [
       "array([17, 16, 84, 92, 71, 72, 42, 14, 62,  1, 47, 66, 87, 81, 49,  4, 78,\n",
       "       61, 17, 12])"
      ]
     },
     "execution_count": 70,
     "metadata": {},
     "output_type": "execute_result"
    }
   ],
   "source": [
    "import numpy as np\n",
    "from numpy.random import randint as rint\n",
    "a = rint(1,99,20)\n",
    "a"
   ]
  },
  {
   "cell_type": "markdown",
   "id": "c71699b8",
   "metadata": {},
   "source": [
    "b = a.reshape(2,2,4)\n",
    "b "
   ]
  },
  {
   "cell_type": "code",
   "execution_count": 79,
   "id": "636f4b6f",
   "metadata": {},
   "outputs": [
    {
     "ename": "AttributeError",
     "evalue": "'numpy.ndarray' object has no attribute 'main'",
     "output_type": "error",
     "traceback": [
      "\u001b[1;31m---------------------------------------------------------------------------\u001b[0m",
      "\u001b[1;31mAttributeError\u001b[0m                            Traceback (most recent call last)",
      "\u001b[1;32m~\\AppData\\Local\\Temp\\ipykernel_21028\\3164886483.py\u001b[0m in \u001b[0;36m<module>\u001b[1;34m\u001b[0m\n\u001b[1;32m----> 1\u001b[1;33m \u001b[0mprint\u001b[0m\u001b[1;33m(\u001b[0m\u001b[1;34m\"Min of a :\"\u001b[0m\u001b[1;33m,\u001b[0m\u001b[0mb\u001b[0m\u001b[1;33m.\u001b[0m\u001b[0mmain\u001b[0m\u001b[1;33m(\u001b[0m\u001b[1;33m)\u001b[0m\u001b[1;33m)\u001b[0m\u001b[1;33m\u001b[0m\u001b[1;33m\u001b[0m\u001b[0m\n\u001b[0m",
      "\u001b[1;31mAttributeError\u001b[0m: 'numpy.ndarray' object has no attribute 'main'"
     ]
    }
   ],
   "source": [
    "print(\"Min of a :\",b.main())"
   ]
  },
  {
   "cell_type": "code",
   "execution_count": 84,
   "id": "a57932e2",
   "metadata": {},
   "outputs": [
    {
     "data": {
      "text/plain": [
       "array([[82, 21, 87,  2, 75],\n",
       "       [71, 49, 56, 52, 98],\n",
       "       [40,  1, 31, 43, 88],\n",
       "       [72,  5, 63, 26, 18],\n",
       "       [51, 64, 18, 74,  2]])"
      ]
     },
     "execution_count": 84,
     "metadata": {},
     "output_type": "execute_result"
    }
   ],
   "source": [
    "#sorting\n",
    "M = rint(1,100,25).reshape(5,5)\n",
    "M"
   ]
  },
  {
   "cell_type": "code",
   "execution_count": 85,
   "id": "e30f46e7",
   "metadata": {},
   "outputs": [
    {
     "name": "stdout",
     "output_type": "stream",
     "text": [
      "n5x5 Matrix of random integers \n",
      " __________________________________________________ \n",
      " [[82 21 87  2 75]\n",
      " [71 49 56 52 98]\n",
      " [40  1 31 43 88]\n",
      " [72  5 63 26 18]\n",
      " [51 64 18 74  2]]\n"
     ]
    }
   ],
   "source": [
    "print(\"n5x5 Matrix of random integers \\n\",'_'*50,\"\\n\",M)"
   ]
  },
  {
   "cell_type": "code",
   "execution_count": 86,
   "id": "da1b73d1",
   "metadata": {},
   "outputs": [
    {
     "name": "stdout",
     "output_type": "stream",
     "text": [
      "n5x5 sorted Matrix of random integers along with each row  \n",
      " __________________________________________________ \n",
      " [[ 2 21 75 82 87]\n",
      " [49 52 56 71 98]\n",
      " [ 1 31 40 43 88]\n",
      " [ 5 18 26 63 72]\n",
      " [ 2 18 51 64 74]]\n"
     ]
    }
   ],
   "source": [
    "print(\"n5x5 sorted Matrix of random integers along with each row  \\n\",'_'*50,\"\\n\",np.sort(M)) #Default axis = 1"
   ]
  },
  {
   "cell_type": "code",
   "execution_count": 89,
   "id": "779483da",
   "metadata": {},
   "outputs": [
    {
     "name": "stdout",
     "output_type": "stream",
     "text": [
      "sorted Matrix of random integers along with each row  \n",
      " __________________________________________________ \n",
      " [[40  1 18  2  2]\n",
      " [51  5 31 26 18]\n",
      " [71 21 56 43 75]\n",
      " [72 49 63 52 88]\n",
      " [82 64 87 74 98]]\n"
     ]
    }
   ],
   "source": [
    "print(\"sorted Matrix of random integers along with each row  \\n\",'_'*50,\"\\n\",np.sort(M, axis=0)) #Default axis = 1"
   ]
  },
  {
   "cell_type": "code",
   "execution_count": 91,
   "id": "6c5870da",
   "metadata": {
    "scrolled": true
   },
   "outputs": [
    {
     "name": "stdout",
     "output_type": "stream",
     "text": [
      "n5x5 Matrix of random integers \n",
      " __________________________________________________ \n",
      " [[82 21 87  2 75]\n",
      " [71 49 56 52 98]\n",
      " [40  1 31 43 88]\n",
      " [72  5 63 26 18]\n",
      " [51 64 18 74  2]]\n",
      "n5x5 sorted Matrix of random integers along with each row  \n",
      " __________________________________________________ \n",
      " [[ 2 21 75 82 87]\n",
      " [49 52 56 71 98]\n",
      " [ 1 31 40 43 88]\n",
      " [ 5 18 26 63 72]\n",
      " [ 2 18 51 64 74]]\n",
      "sorted Matrix of random integers along with each colum  \n",
      " __________________________________________________ \n",
      " [[40  1 18  2  2]\n",
      " [51  5 31 26 18]\n",
      " [71 21 56 43 75]\n",
      " [72 49 63 52 88]\n",
      " [82 64 87 74 98]]\n"
     ]
    }
   ],
   "source": [
    "print(\"n5x5 Matrix of random integers \\n\",'_'*50,\"\\n\",M)\n",
    "print(\"n5x5 sorted Matrix of random integers along with each row  \\n\",'_'*50,\"\\n\",np.sort(M)) #Default axis = 1\n",
    "print(\"sorted Matrix of random integers along with each colum  \\n\",'_'*50,\"\\n\",np.sort(M, axis=0)) #Default axis = 1"
   ]
  },
  {
   "cell_type": "code",
   "execution_count": 92,
   "id": "c9bfa2c0",
   "metadata": {},
   "outputs": [],
   "source": [
    "my_mat = [[1,2,3],[1,2,4],[5,6,7]]"
   ]
  },
  {
   "cell_type": "code",
   "execution_count": 93,
   "id": "7171102e",
   "metadata": {},
   "outputs": [],
   "source": [
    "mat = np.array(my_mat)"
   ]
  },
  {
   "cell_type": "code",
   "execution_count": 94,
   "id": "2cd93fa3",
   "metadata": {},
   "outputs": [
    {
     "data": {
      "text/plain": [
       "array([[1, 2, 3],\n",
       "       [1, 2, 4],\n",
       "       [5, 6, 7]])"
      ]
     },
     "execution_count": 94,
     "metadata": {},
     "output_type": "execute_result"
    }
   ],
   "source": [
    "mat"
   ]
  },
  {
   "cell_type": "code",
   "execution_count": 95,
   "id": "4e2e9fa3",
   "metadata": {},
   "outputs": [
    {
     "name": "stdout",
     "output_type": "stream",
     "text": [
      "\n",
      " Double backet index \n",
      "elements in row index 1 and column index 2: [[2 3]\n",
      " [2 4]\n",
      " [6 7]]\n"
     ]
    }
   ],
   "source": [
    "print(\"\\n Double backet index \")\n",
    "print(\"elements in row index 1 and column index 2:\",mat[:,1:])"
   ]
  },
  {
   "cell_type": "code",
   "execution_count": null,
   "id": "5665a03c",
   "metadata": {},
   "outputs": [],
   "source": []
  }
 ],
 "metadata": {
  "kernelspec": {
   "display_name": "Python 3 (ipykernel)",
   "language": "python",
   "name": "python3"
  },
  "language_info": {
   "codemirror_mode": {
    "name": "ipython",
    "version": 3
   },
   "file_extension": ".py",
   "mimetype": "text/x-python",
   "name": "python",
   "nbconvert_exporter": "python",
   "pygments_lexer": "ipython3",
   "version": "3.9.13"
  }
 },
 "nbformat": 4,
 "nbformat_minor": 5
}
