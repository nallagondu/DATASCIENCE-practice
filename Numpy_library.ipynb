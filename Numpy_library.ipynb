{
 "cells": [
  {
   "cell_type": "code",
   "execution_count": 1,
   "id": "72af737f",
   "metadata": {},
   "outputs": [],
   "source": [
    "\n"
   ]
  },
  {
   "cell_type": "code",
   "execution_count": 3,
   "id": "f9d1215f",
   "metadata": {},
   "outputs": [
    {
     "name": "stdout",
     "output_type": "stream",
     "text": [
      "Defaulting to user installation because normal site-packages is not writeable\n",
      "Requirement already satisfied: numpy in c:\\users\\nallag\\appdata\\roaming\\python\\python39\\site-packages (1.24.3)\n"
     ]
    }
   ],
   "source": [
    "!pip install numpy"
   ]
  },
  {
   "cell_type": "code",
   "execution_count": 4,
   "id": "a366dec6",
   "metadata": {},
   "outputs": [],
   "source": [
    "import pandas as pd\n",
    "import numpy as np "
   ]
  },
  {
   "cell_type": "code",
   "execution_count": 5,
   "id": "87dae875",
   "metadata": {},
   "outputs": [
    {
     "data": {
      "text/plain": [
       "5.0"
      ]
     },
     "execution_count": 5,
     "metadata": {},
     "output_type": "execute_result"
    }
   ],
   "source": [
    "np.add(1.0,4.0)"
   ]
  },
  {
   "cell_type": "code",
   "execution_count": 11,
   "id": "96471fc0",
   "metadata": {},
   "outputs": [
    {
     "data": {
      "text/plain": [
       "array([[ 0.,  2.,  4.],\n",
       "       [ 3.,  5.,  7.],\n",
       "       [ 6.,  8., 10.]])"
      ]
     },
     "execution_count": 11,
     "metadata": {},
     "output_type": "execute_result"
    }
   ],
   "source": [
    "x1 = np.arange(9.0).reshape((3,3))\n",
    "x2 = np.arange(3.0)\n",
    "np.add(x1,x2)"
   ]
  },
  {
   "cell_type": "code",
   "execution_count": 15,
   "id": "6062ea0c",
   "metadata": {},
   "outputs": [],
   "source": [
    "a = [1, 2, 3]\n",
    "b = [2, 3, 4]\n",
    "c = np.multiply(a,b)"
   ]
  },
  {
   "cell_type": "code",
   "execution_count": 13,
   "id": "ff580014",
   "metadata": {},
   "outputs": [
    {
     "data": {
      "text/plain": [
       "array([ 2,  6, 12])"
      ]
     },
     "execution_count": 13,
     "metadata": {},
     "output_type": "execute_result"
    }
   ],
   "source": [
    "c"
   ]
  },
  {
   "cell_type": "code",
   "execution_count": 20,
   "id": "55511f95",
   "metadata": {},
   "outputs": [],
   "source": [
    "#Split ()\n",
    "#returns a list of the words in the string ,using separator deliiter\n",
    "arr = np.array([1,2,3,4,5,6])\n",
    "newarr = np.array_split(arr, 2)\n"
   ]
  },
  {
   "cell_type": "code",
   "execution_count": 21,
   "id": "cd6a7ceb",
   "metadata": {},
   "outputs": [
    {
     "name": "stdout",
     "output_type": "stream",
     "text": [
      "[array([1, 2, 3]), array([4, 5, 6])]\n"
     ]
    }
   ],
   "source": [
    "print(newarr)"
   ]
  },
  {
   "cell_type": "code",
   "execution_count": 26,
   "id": "2184a079",
   "metadata": {},
   "outputs": [
    {
     "name": "stdout",
     "output_type": "stream",
     "text": [
      "[1 2 3 4 4 5 5 6 6 9]\n"
     ]
    }
   ],
   "source": [
    "#join()  \n",
    "# returns  a string is the concatenaton of the string in the sequence\n",
    "\n",
    "arr1 =  np.array([1, 2, 3, 9])\n",
    "arr2 = np.array([4, 5, 6])\n",
    "arr3 = np.array([4, 5, 6])\n",
    "arr = np.concatenate((arr1, arr2, arr3))\n",
    "print(np.sort(arr))"
   ]
  },
  {
   "cell_type": "code",
   "execution_count": 32,
   "id": "ab916daf",
   "metadata": {},
   "outputs": [
    {
     "name": "stdout",
     "output_type": "stream",
     "text": [
      "x: ['aAaAaA' 'aA' 'abBABab']\n"
     ]
    }
   ],
   "source": [
    "#encode()\n",
    "#class str.encode element-wise\n",
    "\n",
    "x = np.array(['aAaAaA', 'aA', 'abBABab'])\n",
    "print(\"x:\", x)"
   ]
  },
  {
   "cell_type": "code",
   "execution_count": 34,
   "id": "b480a4f6",
   "metadata": {},
   "outputs": [
    {
     "data": {
      "text/plain": [
       "array([b'\\x81\\xc1\\x81\\xc1\\x81\\xc1', b'\\x81\\xc1',\n",
       "       b'\\x81\\x82\\xc2\\xc1\\xc2\\x81\\x82'], dtype='|S7')"
      ]
     },
     "execution_count": 34,
     "metadata": {},
     "output_type": "execute_result"
    }
   ],
   "source": [
    "e = np.char.encode(x, encoding='cp037')\n",
    "e"
   ]
  },
  {
   "cell_type": "code",
   "execution_count": 35,
   "id": "4289a29c",
   "metadata": {},
   "outputs": [
    {
     "data": {
      "text/plain": [
       "array(['aAaAaA', 'aA', 'abBABab'], dtype='<U7')"
      ]
     },
     "execution_count": 35,
     "metadata": {},
     "output_type": "execute_result"
    }
   ],
   "source": [
    "d = np.char.decode(e, encoding='cp037')\n",
    "d"
   ]
  },
  {
   "cell_type": "code",
   "execution_count": 36,
   "id": "fc8bc34c",
   "metadata": {},
   "outputs": [
    {
     "name": "stdout",
     "output_type": "stream",
     "text": [
      "cdhilmrª\n"
     ]
    }
   ],
   "source": [
    "# Assuming you have a byte string encoded in cp037\n",
    "encoded_data = b'\\x83\\x84\\x88\\x89\\x93\\x94\\x99\\x9a'\n",
    "\n",
    "# Decode using cp037\n",
    "decoded_data = encoded_data.decode('cp037')\n",
    "\n",
    "print(decoded_data)"
   ]
  },
  {
   "cell_type": "code",
   "execution_count": 37,
   "id": "34c6999a",
   "metadata": {},
   "outputs": [
    {
     "data": {
      "text/plain": [
       "array([0., 2., 2., 4., 4.])"
      ]
     },
     "execution_count": 37,
     "metadata": {},
     "output_type": "execute_result"
    }
   ],
   "source": [
    "# function for rounding\n",
    "#numpy.around().\n",
    "np.around([.5, 1.5, 2.5,3.5,4.5]) # round to nearest even value\n"
   ]
  },
  {
   "cell_type": "code",
   "execution_count": 41,
   "id": "0b852126",
   "metadata": {},
   "outputs": [
    {
     "data": {
      "text/plain": [
       "array([-1., -2., -1.,  0.,  1.,  1.,  2.])"
      ]
     },
     "execution_count": 41,
     "metadata": {},
     "output_type": "execute_result"
    }
   ],
   "source": [
    "#numpy.floor()\n",
    "#this function returns the largest intger not greater then the input parameter \n",
    "# note - In python ,flooring always is rounded away from  0\n",
    "\n",
    "a = np.array([-1.0, -1.9, -0.9, 0.2,1.8,1.9,2.0])\n",
    "np.floor(a)\n"
   ]
  },
  {
   "cell_type": "code",
   "execution_count": 42,
   "id": "8feebe78",
   "metadata": {},
   "outputs": [
    {
     "data": {
      "text/plain": [
       "array([-1., -1., -0.,  1.,  2.,  2.,  2.])"
      ]
     },
     "execution_count": 42,
     "metadata": {},
     "output_type": "execute_result"
    }
   ],
   "source": [
    "#nupay.ceil()\n",
    "# The ceil() funciton returns the ceiling of an input value ,i.e the ceil of the scalar x is the smallest integer i,such that I >= x\n",
    "\n",
    "a = np.array([-1.7,-1.5, -0.2,0.2,1.5,1.7,2.0])\n",
    "np.ceil(a)\n"
   ]
  },
  {
   "cell_type": "code",
   "execution_count": 58,
   "id": "429e8a53",
   "metadata": {},
   "outputs": [
    {
     "data": {
      "text/plain": [
       "344534565464.152"
      ]
     },
     "execution_count": 58,
     "metadata": {},
     "output_type": "execute_result"
    }
   ],
   "source": [
    "#numpy.round()\n",
    "#Round an array to the givennumber of dicimals.\n",
    "# it take the decimal value of first number with given limtes in right side of the value \n",
    "import numpy as np \n",
    "np.round(344534565464.15199, 4)\n"
   ]
  },
  {
   "cell_type": "code",
   "execution_count": 59,
   "id": "99508c5d",
   "metadata": {},
   "outputs": [
    {
     "data": {
      "text/plain": [
       "array([ 2.,  2., -2., -2.])"
      ]
     },
     "execution_count": 59,
     "metadata": {},
     "output_type": "execute_result"
    }
   ],
   "source": [
    "#numpy.fix()\n",
    "np.fix([2.1,2.9,-2.1,-2.9])"
   ]
  },
  {
   "cell_type": "code",
   "execution_count": 61,
   "id": "bc3ef7a3",
   "metadata": {},
   "outputs": [
    {
     "data": {
      "text/plain": [
       "array([-1., -1., -0.,  0.,  1.,  1.,  2.])"
      ]
     },
     "execution_count": 61,
     "metadata": {},
     "output_type": "execute_result"
    }
   ],
   "source": [
    "#numpy.trunc()\n",
    "a = np.array([-1.7,-1.5,-0.2,0.2,1.5,1.7,2.0])\n",
    "np.trunc(a)"
   ]
  },
  {
   "cell_type": "code",
   "execution_count": 62,
   "id": "625ed887",
   "metadata": {},
   "outputs": [
    {
     "data": {
      "text/plain": [
       "array([1.       , 0.5      , 0.3003003])"
      ]
     },
     "execution_count": 62,
     "metadata": {},
     "output_type": "execute_result"
    }
   ],
   "source": [
    "# arthimitical funcitons\n",
    "#numpy.reciprocal()\n",
    "\n",
    "#numpy.reciprocal()\n",
    "#This function returns the reciprocal of argument, element-wise. For elements with absolute values larger than 1, the\n",
    "#result is always 0 because of the way in which Python handles integer division.\n",
    "np.reciprocal([1,2.,3.33])\n"
   ]
  },
  {
   "cell_type": "code",
   "execution_count": 64,
   "id": "bb4cb980",
   "metadata": {},
   "outputs": [
    {
     "data": {
      "text/plain": [
       "array([0, 1, 2, 3, 4, 5])"
      ]
     },
     "execution_count": 64,
     "metadata": {},
     "output_type": "execute_result"
    }
   ],
   "source": [
    "#numpy.power()\n",
    "#This function treats elements in the first input array as base and returns it raised to the power of the corresponding\n",
    "#element in the second input array\n",
    "x1 = np.arange(6)\n",
    "x1\n"
   ]
  },
  {
   "cell_type": "code",
   "execution_count": 69,
   "id": "593ccd23",
   "metadata": {},
   "outputs": [
    {
     "data": {
      "text/plain": [
       "array([  0,   1,   8,  27,  64, 125], dtype=int32)"
      ]
     },
     "execution_count": 69,
     "metadata": {},
     "output_type": "execute_result"
    }
   ],
   "source": [
    "np.power(x1,3)\n"
   ]
  },
  {
   "cell_type": "code",
   "execution_count": 68,
   "id": "b4207c43",
   "metadata": {},
   "outputs": [
    {
     "data": {
      "text/plain": [
       "array([ 0,  1,  4,  9, 16, 25], dtype=int32)"
      ]
     },
     "execution_count": 68,
     "metadata": {},
     "output_type": "execute_result"
    }
   ],
   "source": [
    "np.power(x1,2)"
   ]
  },
  {
   "cell_type": "code",
   "execution_count": 70,
   "id": "5304f62f",
   "metadata": {},
   "outputs": [
    {
     "data": {
      "text/plain": [
       "array([  0,   1,  16,  81, 256, 625], dtype=int32)"
      ]
     },
     "execution_count": 70,
     "metadata": {},
     "output_type": "execute_result"
    }
   ],
   "source": [
    "np.power(x1,4)"
   ]
  },
  {
   "cell_type": "code",
   "execution_count": 71,
   "id": "974e3fbf",
   "metadata": {},
   "outputs": [
    {
     "data": {
      "text/plain": [
       "array([0, 1])"
      ]
     },
     "execution_count": 71,
     "metadata": {},
     "output_type": "execute_result"
    }
   ],
   "source": [
    "# numpy.mod()\n",
    "#This function returns the remainder of division of the corresponding elements in the input array. The\n",
    "#function numpy.remainder() also produces the same result.\n",
    "np.remainder([4,7], [2,3])"
   ]
  },
  {
   "cell_type": "code",
   "execution_count": 72,
   "id": "a8f9e79d",
   "metadata": {},
   "outputs": [
    {
     "data": {
      "text/plain": [
       "1.0"
      ]
     },
     "execution_count": 72,
     "metadata": {},
     "output_type": "execute_result"
    }
   ],
   "source": [
    "#Trigonometric functions:\n",
    "#numpy.sin()\n",
    "#Trigonometric sine, element-wise\n",
    "np.sin(np.pi/2.)"
   ]
  },
  {
   "cell_type": "code",
   "execution_count": 74,
   "id": "ccc06615",
   "metadata": {},
   "outputs": [
    {
     "data": {
      "text/plain": [
       "1.2246467991473532e-16"
      ]
     },
     "execution_count": 74,
     "metadata": {},
     "output_type": "execute_result"
    }
   ],
   "source": [
    "np.sin(np.pi)"
   ]
  },
  {
   "cell_type": "code",
   "execution_count": 75,
   "id": "57e47159",
   "metadata": {},
   "outputs": [
    {
     "data": {
      "text/plain": [
       "array([ 1.000000e+00,  6.123234e-17, -1.000000e+00])"
      ]
     },
     "execution_count": 75,
     "metadata": {},
     "output_type": "execute_result"
    }
   ],
   "source": [
    "np.cos(np.array([0,np.pi/2,np.pi]))"
   ]
  },
  {
   "cell_type": "code",
   "execution_count": null,
   "id": "e17bccca",
   "metadata": {},
   "outputs": [],
   "source": []
  }
 ],
 "metadata": {
  "kernelspec": {
   "display_name": "Python 3 (ipykernel)",
   "language": "python",
   "name": "python3"
  },
  "language_info": {
   "codemirror_mode": {
    "name": "ipython",
    "version": 3
   },
   "file_extension": ".py",
   "mimetype": "text/x-python",
   "name": "python",
   "nbconvert_exporter": "python",
   "pygments_lexer": "ipython3",
   "version": "3.9.13"
  }
 },
 "nbformat": 4,
 "nbformat_minor": 5
}
