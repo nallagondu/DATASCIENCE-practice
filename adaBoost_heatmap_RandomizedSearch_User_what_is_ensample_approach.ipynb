{
  "nbformat": 4,
  "nbformat_minor": 0,
  "metadata": {
    "colab": {
      "private_outputs": true,
      "provenance": [],
      "authorship_tag": "ABX9TyMJR/97BbjXNXVAVFD5ImIA",
      "include_colab_link": true
    },
    "kernelspec": {
      "name": "python3",
      "display_name": "Python 3"
    },
    "language_info": {
      "name": "python"
    }
  },
  "cells": [
    {
      "cell_type": "markdown",
      "metadata": {
        "id": "view-in-github",
        "colab_type": "text"
      },
      "source": [
        "<a href=\"https://colab.research.google.com/github/nallagondu/DATASCIENCE-practice/blob/main/adaBoost_heatmap_RandomizedSearch_User_what_is_ensample_approach.ipynb\" target=\"_parent\"><img src=\"https://colab.research.google.com/assets/colab-badge.svg\" alt=\"Open In Colab\"/></a>"
      ]
    },
    {
      "cell_type": "markdown",
      "source": [
        "**User what is ensample approach**\n",
        "An ensemble approach in machine learning involves combining multiple individual models to improve predictive performance. The idea behind ensemble methods is to leverage the strengths of various models and reduce the weaknesses of each individual model. By combining multiple models, ensemble methods can often achieve better results than any single model on its own.\n",
        "\n",
        "There are several types of ensemble methods, including:\n",
        "\n",
        "Voting: In this approach, multiple models (e.g., classifiers or regressors) are trained independently, and predictions are made by taking a majority vote (for classification) or an average (for regression) of the predictions made by individual models.\n",
        "\n",
        "Bagging (Bootstrap Aggregating): Bagging involves training multiple instances of the same base model on different subsets of the training data (sampled with replacement). The final prediction is then obtained by averaging (for regression) or taking a majority vote (for classification) over the predictions made by individual models.\n",
        "\n",
        "Boosting: Boosting is an iterative ensemble method where models are trained sequentially, with each subsequent model focusing on the samples that were misclassified by the previous models. Examples of boosting algorithms include AdaBoost, Gradient Boosting, and XGBoost.\n",
        "\n",
        "Stacking: Stacking involves training multiple models, often of different types, and then combining their predictions as inputs to a meta-model (also known as a blender or a meta-learner). The meta-model is trained on the outputs of the base models and makes the final prediction."
      ],
      "metadata": {
        "id": "rGLCAI3_UsG5"
      }
    },
    {
      "cell_type": "markdown",
      "source": [
        "**Deep explination :**\n",
        "\n",
        "Voting:\n",
        "\n",
        "Explanation: Voting is a simple and intuitive ensemble method that combines the predictions of multiple base models. In classification tasks, each base model independently predicts the class labels for a given input, and the final prediction is determined by a majority vote among the base models. In regression tasks, the final prediction is the average of the predictions made by individual models.\n",
        "Types: There are two main types of voting:\n",
        "Hard Voting: In hard voting, the final prediction is based on the majority vote of the base models' predictions.\n",
        "Soft Voting: In soft voting, the final prediction is based on the average (or weighted average) of the predicted probabilities assigned to each class by the base models.\n",
        "Example: Suppose you have three classifiers trained on a dataset: Decision Tree, Random Forest, and Support Vector Machine (SVM). In a hard voting ensemble, the final prediction for a given input is the majority vote among the predictions made by these three classifiers.\n",
        "Bagging (Bootstrap Aggregating):\n",
        "\n",
        "Explanation: Bagging is an ensemble method that involves training multiple instances of the same base model on different subsets of the training data. These subsets are sampled with replacement from the original training data (hence the term \"bootstrap\"). The final prediction is then obtained by averaging (for regression) or taking a majority vote (for classification) over the predictions made by individual models.\n",
        "Benefits: Bagging helps reduce overfitting by introducing randomness into the training process and averaging out the variance. It can also improve stability and generalization performance.\n",
        "Example: In a bagging ensemble of decision trees (Random Forest), each decision tree is trained on a random subset of the training data, and the final prediction is the average of the predictions made by all decision trees in the ensemble.\n",
        "Boosting:\n",
        "\n",
        "Explanation: Boosting is an iterative ensemble method where models are trained sequentially, with each subsequent model focusing on the samples that were misclassified by the previous models. The final prediction is a weighted sum of the predictions made by individual models.\n",
        "Types: There are several boosting algorithms, including AdaBoost (Adaptive Boosting), Gradient Boosting, XGBoost, and LightGBM.\n",
        "Process: Boosting starts by training a base model on the entire training data. Subsequent models are trained sequentially, with each model giving higher weight to the misclassified samples from the previous models. The final prediction is obtained by aggregating the predictions made by all models, typically using weighted averaging.\n",
        "Example: In AdaBoost, each weak learner (e.g., decision stump) is trained on a subset of the training data, and the subsequent weak learners focus more on the samples that were misclassified by the previous ones.\n",
        "Stacking:\n",
        "\n",
        "Explanation: Stacking is a meta-ensemble method that combines predictions from multiple base models using a meta-model (also known as a blender or a meta-learner). Instead of averaging or voting directly on the predictions made by individual models, stacking trains a meta-model on the outputs of the base models and uses it to make the final prediction.\n",
        "Process: Stacking involves several steps:\n",
        "Train multiple base models on the training data.\n",
        "Use the base models to make predictions on a hold-out validation set (out-of-fold predictions).\n",
        "Train a meta-model (e.g., a linear regression model) on the predictions made by the base models.\n",
        "Use the meta-model to make the final prediction on the test data.\n",
        "Benefits: Stacking can capture complex patterns in the data by leveraging the strengths of multiple base models. It often leads to improved performance compared to individual models.\n",
        "Example: Suppose you have trained three different models (e.g., Random Forest, Gradient Boosting, and Support Vector Regressor) on a dataset. In stacking, you would use the predictions made by these models as features and train a meta-model (e.g., a linear regression model) to make the final prediction."
      ],
      "metadata": {
        "id": "919C4TldWlq3"
      }
    },
    {
      "cell_type": "markdown",
      "source": [
        "**AdaBoost (Adaptive Boosting) **is a popular boosting algorithm used in machine learning for both classification and regression tasks. Here's a deeper explanation of AdaBoost:\n",
        "\n",
        "**Basic Concept:**\n",
        "\n",
        "**AdaBoost** is an ensemble learning method that combines multiple weak learners (base models) to create a strong learner.\n",
        "It works by iteratively training a series of weak learners on different weighted versions of the training data.\n",
        "At each iteration, AdaBoost adjusts the weights of incorrectly classified instances to focus more on those instances in subsequent iterations, thereby allowing the weak learners to \"focus\" on the difficult-to-classify examples.\n",
        "The final prediction is typically obtained by weighted majority voting (for classification) or weighted averaging (for regression) of the predictions made by individual weak learners.\n",
        "\n",
        "**Algorithm Steps:**\n",
        "\n",
        "Initialization: Assign equal weights to all training instances.\n",
        "Iterative Training:\n",
        "Train a weak learner on the current weighted training data.\n",
        "Compute the weighted error rate of the weak learner (the sum of weights of incorrectly classified instances).\n",
        "Calculate the contribution of the weak learner to the final prediction (based on its performance).\n",
        "Update the weights of the training instances, giving more weight to incorrectly classified instances.\n",
        "Final Prediction:\n",
        "Combine the predictions of all weak learners by weighted majority voting or weighted averaging to obtain the final prediction.\n",
        "Key Components:\n",
        "\n",
        "Weak Learners: Typically, decision trees with a small depth (decision stumps) are used as weak learners in AdaBoost. However, other algorithms can also be used as long as they perform slightly better than random guessing.\n",
        "Weighted Training Data: AdaBoost assigns different weights to training instances based on their importance. Instances that are misclassified by previous weak learners are given higher weights to prioritize them in subsequent iterations.\n",
        "Learning Rate: AdaBoost also includes a learning rate parameter (usually denoted as η), which controls the contribution of each weak learner to the final prediction. A lower learning rate often leads to better generalization but requires more iterations.\n",
        "**Benefits:**\n",
        "\n",
        "AdaBoost is adaptive and iterative, focusing more on difficult-to-classify instances in each iteration.\n",
        "It is less prone to overfitting compared to individual weak learners.\n",
        "AdaBoost can be effective even with relatively simple weak learners.\n",
        "It often achieves good performance with minimal tuning of hyperparameters.\n",
        "**Applications:**\n",
        "\n",
        "AdaBoost is widely used in various machine learning tasks, including classification, regression, and ranking.\n",
        "It has been successfully applied to problems such as face detection, text categorization, and biological sequence analysis."
      ],
      "metadata": {
        "id": "CMF02bMFW2tf"
      }
    },
    {
      "cell_type": "markdown",
      "source": [
        "**\"stump\" **: In machine learning, particularly in the context of decision trees and ensemble methods, a \"stump\" typically refers to a decision tree with only one level or depth of nodes. It's the simplest form of a decision tree, containing a single decision node (also known as a root node) and two leaf nodes.\n",
        "\n",
        "Here's a breakdown of the components of a decision stump:\n",
        "\n",
        "Root Node (Decision Node): This is the top node of the decision stump. It represents a decision based on the value of a single feature. For example, if the feature is \"age,\" the root node might make a decision like \"age < 30.\"\n",
        "\n",
        "Leaf Nodes: Decision stumps have exactly two leaf nodes, one for each possible outcome of the decision made at the root node. These leaf nodes represent the predicted class or value. For example, if the root node's decision is \"age < 30,\" one leaf node might represent the prediction for cases where the condition is true (e.g., \"class A\"), and the other leaf node represents the prediction for cases where the condition is false (e.g., \"class B\").\n",
        "\n",
        "Decision stumps are often used as weak learners in ensemble methods like AdaBoost because they are computationally simple and can capture basic patterns in the data. While decision stumps have limited expressive power compared to deeper decision trees, they can still contribute to the overall predictive performance when combined with other weak learners in an ensemble."
      ],
      "metadata": {
        "id": "hLFrqRLuX6m2"
      }
    },
    {
      "cell_type": "markdown",
      "source": [
        "The Gini index (also known as Gini impurity) is a measure of the impurity or uncertainty in a set of data points within a decision tree node during the process of building a decision tree. It is commonly used as a criterion for splitting nodes in classification trees.\n",
        "\n",
        "Here's a detailed explanation of the Gini index:\n",
        "\n",
        "Definition:\n",
        "\n",
        "The Gini index measures the probability of incorrectly classifying a randomly chosen element in the dataset if it were randomly labeled according to the distribution of labels in the node.\n",
        "\n",
        "For a binary classification problem with two classes (e.g., positive and negative), the Gini index is calculated as follows:\n",
        "\n",
        "![image.png](data:image/png;base64,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)\n",
        "**Interpretation**:\n",
        "\n",
        "A Gini index of 0 indicates that the node is pure (all data points belong to the same class).\n",
        "A Gini index closer to 1 indicates higher impurity (a more mixed distribution of classes).\n",
        "Therefore, when making splits in a decision tree, the goal is to minimize the Gini index by selecting splits that result in pure or nearly pure child nodes.\n",
        "**Splitting Criteria**:\n",
        "\n",
        "When building a decision tree, the Gini index is used to evaluate the quality of different split points for a given feature.\n",
        "The split point that results in the lowest weighted average of the Gini indices for the child nodes is chosen as the optimal split.\n",
        "Example:\n",
        "\n",
        "Suppose we have a node with 100 data points, of which 70 belong to class A and 30 belong to class B.\n",
        "\n",
        "The Gini index for this node would be calculated as:\n",
        "![image.png](data:image/png;base64,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)\n",
        "\n",
        "**Usage**:\n",
        "\n",
        "The Gini index is commonly used as the splitting criterion in decision trees, including popular algorithms like CART (Classification and Regression Trees).\n",
        "By using the Gini index as the splitting criterion, decision trees can effectively partition the feature space and create decision boundaries that separate different classes in the dataset."
      ],
      "metadata": {
        "id": "PP9hn5mWZRz7"
      }
    },
    {
      "cell_type": "code",
      "source": [],
      "metadata": {
        "id": "VvQOgpL8amwv"
      },
      "execution_count": null,
      "outputs": []
    },
    {
      "cell_type": "markdown",
      "source": [
        "**Example problem and model** : Let's illustrate how AdaBoost might be used to predict whether a person is at risk of heart disease based on features such as chest pain, presence of blocked arteries, and weight. We'll create a simplified example to demonstrate the concept:\n",
        "\n",
        "Suppose we have a dataset with the following features:\n",
        "\n",
        "Chest Pain Type: Categorical variable indicating the type of chest pain experienced by the patient (e.g., typical angina, atypical angina, non-anginal pain, asymptomatic).\n",
        "Blocked Arteries: Binary variable indicating whether any of the major arteries are blocked (1 for yes, 0 for no).\n",
        "Weight: Continuous variable representing the weight of the person (in kilograms).\n",
        "Heart Disease: Binary target variable indicating whether the person has heart disease (1 for yes, 0 for no).\n",
        "Here's how AdaBoost might be applied in this scenario:\n",
        "\n",
        "**Data Preparation:**\n",
        "\n",
        "We would preprocess the dataset, handling missing values and encoding categorical variables (e.g., using one-hot encoding for chest pain type).\n",
        "The dataset would be split into training and testing sets.\n",
        "Model Training:\n",
        "\n",
        "We would initialize an AdaBoost classifier.\n",
        "AdaBoost would sequentially train a series of decision stumps (weak learners) on the training data.\n",
        "Each weak learner would focus on the most informative features (e.g., chest pain type, blocked arteries) and their interactions to make predictions about heart disease.\n",
        "At each iteration, AdaBoost would adjust the weights of the training instances, giving more weight to misclassified instances from previous iterations.\n",
        "Model Evaluation:\n",
        "\n",
        "After training, we would evaluate the performance of the AdaBoost model on the testing set using metrics such as accuracy, precision, recall, or area under the ROC curve (AUC).\n",
        "We would examine the confusion matrix and other relevant metrics to assess the model's ability to correctly predict cases of heart disease.\n",
        "Model Interpretation:\n",
        "\n",
        "We could interpret the final AdaBoost model to understand which features (e.g., chest pain type, blocked arteries, weight) are most important for predicting heart disease.\n",
        "We could visualize the decision boundaries created by the ensemble of weak learners to gain insights into how the model makes predictions.\n",
        "Deployment:\n",
        "\n",
        "Once satisfied with the model's performance, we could deploy it to predict heart disease risk for new patients based on their chest pain type, presence of blocked arteries, and weight."
      ],
      "metadata": {
        "id": "UZtuKnqXawyy"
      }
    },
    {
      "cell_type": "markdown",
      "source": [],
      "metadata": {
        "id": "QH20ymDDaja-"
      }
    },
    {
      "cell_type": "code",
      "source": [
        "import pandas as pd\n",
        "from sklearn.model_selection import train_test_split\n",
        "from sklearn.linear_model import LinearRegression\n",
        "from sklearn.metrics import mean_squared_error\n",
        "import numpy as np\n",
        "import matplotlib.pyplot as plt"
      ],
      "metadata": {
        "id": "YANarEW7cq4M"
      },
      "execution_count": null,
      "outputs": []
    },
    {
      "cell_type": "code",
      "source": [
        "# Initilize the data frame\n",
        "# GitHub raw file URL\n",
        "url = \"https://raw.githubusercontent.com/nallagondu/datatrained-training-ml-Files/main/boston_house_rent.csv\"\n",
        "# Read the CSV file from the URL\n",
        "data = pd.read_csv(url)\n",
        "\n",
        "# Display the first few rows of the DataFrame\n",
        "print(data.head())"
      ],
      "metadata": {
        "id": "VYvOAUe3cHh4"
      },
      "execution_count": null,
      "outputs": []
    },
    {
      "cell_type": "code",
      "source": [
        "data.describe()"
      ],
      "metadata": {
        "id": "E9zgMdCIc9U4"
      },
      "execution_count": null,
      "outputs": []
    },
    {
      "cell_type": "code",
      "source": [
        "#finding out the corelation between the feature\n",
        "corr = data.corr()\n",
        "corr.shape"
      ],
      "metadata": {
        "id": "gj_A0urzdEiT"
      },
      "execution_count": null,
      "outputs": []
    },
    {
      "cell_type": "code",
      "source": [
        "#Corr means co relation\n",
        "corr"
      ],
      "metadata": {
        "id": "Q4PhVwDpdRwC"
      },
      "execution_count": null,
      "outputs": []
    },
    {
      "cell_type": "code",
      "source": [
        "# plotting the heatmap of corelation between features\n",
        "fit.figure"
      ],
      "metadata": {
        "id": "6Sp59EQydbE1"
      },
      "execution_count": null,
      "outputs": []
    },
    {
      "cell_type": "markdown",
      "source": [
        "**Evalidate regression model** : Mean Absolute Error (MAE):\n",
        "\n",
        "The MAE measures the average absolute difference between the predicted values and the actual values.\n",
        "It gives you a sense of how far off the predictions are from the actual values on average.\n",
        "Lower MAE values indicate better performance.\n",
        "Mean Squared Error (MSE):\n",
        "\n",
        "The MSE measures the average squared difference between the predicted values and the actual values.\n",
        "It penalizes larger errors more heavily than smaller errors.\n",
        "Lower MSE values indicate better performance.\n",
        "Root Mean Squared Error (RMSE):\n",
        "\n",
        "The RMSE is the square root of the MSE.\n",
        "It provides a measure of the typical deviation of the predictions from the actual values.\n",
        "Like MSE, lower RMSE values indicate better performance.\n",
        "Coefficient of Determination (R-squared):\n",
        "\n",
        "R-squared measures the proportion of the variance in the dependent variable (target) that is explained by the independent variables (features) in the model.\n",
        "It ranges from 0 to 1, where 1 indicates that the model explains all the variability in the target variable.\n",
        "Higher R-squared values indicate better fit, but it's important to consider the context of the data and the problem.\n",
        "Residual Analysis:\n",
        "\n",
        "Examining the residuals (the differences between predicted and actual values) can provide insights into the model's performance.\n",
        "Plotting residuals against predicted values can help identify patterns or heteroscedasticity (unequal variance) in the errors.\n",
        "A well-performing model should have residuals that are randomly distributed around zero, without any clear patterns.\n",
        "Cross-Validation:\n",
        "\n",
        "Cross-validation involves splitting the data into multiple subsets (folds), training the model on some of the folds, and testing it on the remaining fold.\n",
        "This process is repeated multiple times, with different combinations of training and testing sets.\n",
        "Cross-validation provides a more robust estimate of the model's performance and helps assess its generalization ability.\n",
        "Domain-Specific Metrics:\n",
        "\n",
        "Depending on the specific domain and problem, you may have domain-specific metrics or requirements for evaluating the model's performance.\n",
        "For example, in finance, you might be interested in metrics like Mean Absolute Percentage Error (MAPE) or Sharpe ratio."
      ],
      "metadata": {
        "id": "Iil3WCvbe_jl"
      }
    }
  ]
}