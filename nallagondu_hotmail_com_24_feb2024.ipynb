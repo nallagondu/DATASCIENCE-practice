{
  "nbformat": 4,
  "nbformat_minor": 0,
  "metadata": {
    "colab": {
      "private_outputs": true,
      "provenance": [],
      "authorship_tag": "ABX9TyPVjF/m+vIBp6JLsSPtnR2V",
      "include_colab_link": true
    },
    "kernelspec": {
      "name": "python3",
      "display_name": "Python 3"
    },
    "language_info": {
      "name": "python"
    }
  },
  "cells": [
    {
      "cell_type": "markdown",
      "metadata": {
        "id": "view-in-github",
        "colab_type": "text"
      },
      "source": [
        "<a href=\"https://colab.research.google.com/github/nallagondu/DATASCIENCE-practice/blob/featurebranch/nallagondu_hotmail_com_24_feb2024.ipynb\" target=\"_parent\"><img src=\"https://colab.research.google.com/assets/colab-badge.svg\" alt=\"Open In Colab\"/></a>"
      ]
    },
    {
      "cell_type": "code",
      "execution_count": null,
      "metadata": {
        "id": "a_e7MQfvTnl8"
      },
      "outputs": [],
      "source": [
        "import pandas as pd\n",
        "from sklearn.model_selection import train_test_split\n",
        "from sklearn.preprocessing import OneHotEncoder\n",
        "from sklearn.impute import SimpleImputer\n",
        "from sklearn.ensemble import RandomForestClassifier\n",
        "from sklearn.metrics import accuracy_score"
      ]
    },
    {
      "cell_type": "code",
      "source": [
        "url = \"https://raw.githubusercontent.com/training-ml/Files/main/titanic_train.csv\"\n",
        "df = pd.read_csv(url)"
      ],
      "metadata": {
        "id": "oWCAR1Y4USQu"
      },
      "execution_count": null,
      "outputs": []
    },
    {
      "cell_type": "code",
      "source": [
        "df.drop_duplicates()"
      ],
      "metadata": {
        "id": "xHb1dzkeU9VN"
      },
      "execution_count": null,
      "outputs": []
    },
    {
      "cell_type": "code",
      "source": [
        "df.drop(columns=['Unnamed: 0'], inplace=True)\n"
      ],
      "metadata": {
        "id": "mbj3PGCAYC2g"
      },
      "execution_count": null,
      "outputs": []
    },
    {
      "cell_type": "code",
      "source": [
        "df"
      ],
      "metadata": {
        "id": "-Z7NUkW3U_qY"
      },
      "execution_count": null,
      "outputs": []
    },
    {
      "cell_type": "code",
      "source": [
        "df.head()"
      ],
      "metadata": {
        "id": "VhbZeB4VYX-5"
      },
      "execution_count": null,
      "outputs": []
    },
    {
      "cell_type": "code",
      "source": [
        "df.isnull().sum()"
      ],
      "metadata": {
        "id": "-o4L8KvoVRYW"
      },
      "execution_count": null,
      "outputs": []
    },
    {
      "cell_type": "code",
      "source": [
        "df['Age'].fillna(df['Age'].mean(),inplace=True)"
      ],
      "metadata": {
        "id": "S06_Gbw9VFo_"
      },
      "execution_count": null,
      "outputs": []
    },
    {
      "cell_type": "code",
      "source": [
        "df.isnull().sum()"
      ],
      "metadata": {
        "id": "PU5j1d5wg825"
      },
      "execution_count": null,
      "outputs": []
    },
    {
      "cell_type": "code",
      "source": [
        "df = df.drop(['Cabin'],axis=1,inplace=False)"
      ],
      "metadata": {
        "id": "0mFG9XsscP9P"
      },
      "execution_count": null,
      "outputs": []
    },
    {
      "cell_type": "code",
      "source": [
        "df.isnull().sum()"
      ],
      "metadata": {
        "id": "DhRXzwMohB8r"
      },
      "execution_count": null,
      "outputs": []
    },
    {
      "cell_type": "code",
      "source": [
        "imputer_embarked = SimpleImputer(strategy='most_frequent')\n",
        "df['Embarked'] = imputer_embarked.fit_transform(df[['Embarked']])\n",
        "\n",
        "sex_mapping = {'male': 1, 'female': 0, 'Male': 1, 'Female': 0}\n",
        "df['Sex'] = df['Sex'].map(sex_mapping)\n",
        "# Check unique values in the 'Sex' column\n",
        "print(df['Sex'].unique())"
      ],
      "metadata": {
        "id": "C1Z8fy38VfAL"
      },
      "execution_count": null,
      "outputs": []
    },
    {
      "cell_type": "code",
      "source": [
        "df['Embarked'].mode()\n",
        "\n",
        "df.isnull().sum()"
      ],
      "metadata": {
        "id": "o-QPJeA9cW1k"
      },
      "execution_count": null,
      "outputs": []
    },
    {
      "cell_type": "code",
      "source": [
        "print(\"Total Passengers : \",df.shape[0])\n",
        "print(\"Survived : \",df['Survived'].sum())"
      ],
      "metadata": {
        "id": "lwGZ0kFKWbO4"
      },
      "execution_count": null,
      "outputs": []
    },
    {
      "cell_type": "code",
      "source": [
        "df.info()"
      ],
      "metadata": {
        "id": "XsEbRNbXc6aP"
      },
      "execution_count": null,
      "outputs": []
    },
    {
      "cell_type": "code",
      "source": [
        "df.describe()"
      ],
      "metadata": {
        "id": "aNWLfYk6W0QF"
      },
      "execution_count": null,
      "outputs": []
    },
    {
      "cell_type": "code",
      "source": [
        "df.shape"
      ],
      "metadata": {
        "id": "y7AgrTNQbc01"
      },
      "execution_count": null,
      "outputs": []
    },
    {
      "cell_type": "code",
      "source": [
        "#  Split Data\n",
        "X = df.drop(columns=['Survived'])\n",
        "y = df['Survived']\n",
        "X_train, X_test, y_train, y_test = train_test_split(X, y, test_size=0.2, random_state=42)"
      ],
      "metadata": {
        "id": "MNdnxDb0XDCs"
      },
      "execution_count": null,
      "outputs": []
    },
    {
      "cell_type": "code",
      "source": [
        "#Model Selection\n",
        "model_rf = RandomForestClassifier(random_state=42)"
      ],
      "metadata": {
        "id": "m-Gx31TZXJ40"
      },
      "execution_count": null,
      "outputs": []
    },
    {
      "cell_type": "code",
      "source": [
        "df.head()\n"
      ],
      "metadata": {
        "id": "MzbI4Yn9XYxK"
      },
      "execution_count": null,
      "outputs": []
    },
    {
      "cell_type": "code",
      "source": [
        "print(df['Sex'].unique())"
      ],
      "metadata": {
        "id": "nyOwnjdxiEtJ"
      },
      "execution_count": null,
      "outputs": []
    },
    {
      "cell_type": "code",
      "source": [
        "df_cleandata = df.drop(['Name', 'Ticket'], axis=1)\n",
        "df_cleandata = pd.get_dummies(df_cleandata, columns=['Embarked'], drop_first=True)\n",
        "\n",
        "df_cleandata"
      ],
      "metadata": {
        "id": "JZTgtbDfiPOn"
      },
      "execution_count": null,
      "outputs": []
    },
    {
      "cell_type": "code",
      "source": [
        "df_cleandata.to_csv('cleaned_data.csv', index=False)\n"
      ],
      "metadata": {
        "id": "Ba2zek2SjdKo"
      },
      "execution_count": null,
      "outputs": []
    },
    {
      "cell_type": "code",
      "source": [
        "#  Split Data\n",
        "X = df_cleandata.drop(columns=['Survived'])\n",
        "y = df['Survived']\n",
        "X_train, X_test, y_train, y_test = train_test_split(X, y, test_size=0.2, random_state=42)"
      ],
      "metadata": {
        "id": "UJnxZogXj3vt"
      },
      "execution_count": null,
      "outputs": []
    },
    {
      "cell_type": "code",
      "source": [
        "#print(df_cleandata[df_cleandata['Sex'].isnull()])\n",
        "#model_rf.fit(X_train, y_train)\n"
      ],
      "metadata": {
        "id": "fZ_UR_tieSAc"
      },
      "execution_count": null,
      "outputs": []
    },
    {
      "cell_type": "code",
      "source": [
        "model_rf.fit(X_train, y_train)\n"
      ],
      "metadata": {
        "id": "hqFg5Ceq0G8w"
      },
      "execution_count": null,
      "outputs": []
    },
    {
      "cell_type": "code",
      "source": [
        "y_pred = model_rf.predict(X_test)\n",
        "accuracy = accuracy_score(y_test, y_pred)\n",
        "print(\"Accuracy Score:\", accuracy)"
      ],
      "metadata": {
        "id": "DNILaDFYZVks"
      },
      "execution_count": null,
      "outputs": []
    },
    {
      "cell_type": "markdown",
      "source": [
        "#Linear Rigression"
      ],
      "metadata": {
        "id": "zfyD0SiOl54z"
      }
    },
    {
      "cell_type": "code",
      "source": [
        "#Linear Rigression\n",
        "from sklearn.linear_model import LinearRegression"
      ],
      "metadata": {
        "id": "hsVBmAaMkitd"
      },
      "execution_count": null,
      "outputs": []
    },
    {
      "cell_type": "markdown",
      "source": [],
      "metadata": {
        "id": "1Uu5mqIhl8Nf"
      }
    },
    {
      "cell_type": "code",
      "source": [
        "#Initialize the Linear regression model\n",
        "model_lr = LinearRegression()\n",
        "#Train fit the model on the training data\n",
        "model_lr.fit(X_train,y_train)\n",
        "\n",
        "#make predictions on the test data\n",
        "y_pred_lr = model_lr.predict(X_test)"
      ],
      "metadata": {
        "id": "ig76tAFukrro"
      },
      "execution_count": null,
      "outputs": []
    },
    {
      "cell_type": "code",
      "source": [
        "#visualize y_pred against test_y\n",
        "import matplotlib.pyplot as plt\n",
        "\n",
        "plt.scatter(y_pred_lr, y_test, color = 'red')\n",
        "\n",
        "plt.xlabel('Preediction')\n",
        "plt.ylabel('Actual')\n",
        "plt.title('Linear regression prediction vs Actual Data')\n",
        "plt.show()"
      ],
      "metadata": {
        "id": "I6gvGt77k5sq"
      },
      "execution_count": null,
      "outputs": []
    },
    {
      "cell_type": "code",
      "source": [
        "y_pred_lr = model_lr.predict(X_test)\n",
        "y_pred_lr_binary = [1 if prob >= 0.5 else 0 for prob in y_pred_lr]\n",
        "accuracy_lr = accuracy_score(y_test, y_pred_lr_binary)\n",
        "print(\"Accuracy Score:\", accuracy_lr)"
      ],
      "metadata": {
        "id": "cmqL03kQmLp6"
      },
      "execution_count": null,
      "outputs": []
    }
  ]
}